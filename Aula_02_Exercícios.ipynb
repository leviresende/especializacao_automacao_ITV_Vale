{
  "nbformat": 4,
  "nbformat_minor": 0,
  "metadata": {
    "colab": {
      "name": "Aula 02 - Exercícios.ipynb",
      "provenance": [],
      "collapsed_sections": []
    },
    "kernelspec": {
      "name": "python3",
      "display_name": "Python 3"
    },
    "language_info": {
      "name": "python"
    }
  },
  "cells": [
    {
      "cell_type": "markdown",
      "metadata": {
        "id": "T7H5dCawwYAx"
      },
      "source": [
        "# **Instituto Tecnológico Vale**\n",
        "\n",
        "## **Elementos de Automação e Programação para Automação**\n",
        "\n",
        "### **Exercícios para praticar**"
      ]
    },
    {
      "cell_type": "markdown",
      "metadata": {
        "id": "5f-1vpC8xVKH"
      },
      "source": [
        "**Exercício 01:**\n",
        "\n",
        "Faça um programa com uma função chamada somaImposto. A função possui dois parâmetros formais: taxaImposto, que é a quantia de imposto sobre vendas expressa em porcentagem e custo, que é o custo de um item antes do imposto. A função “altera” o valor de custo para incluir o imposto sobre vendas e retorna ao usuário."
      ]
    },
    {
      "cell_type": "code",
      "metadata": {
        "id": "BRAqxplPwTi0"
      },
      "source": [
        ""
      ],
      "execution_count": null,
      "outputs": []
    },
    {
      "cell_type": "markdown",
      "metadata": {
        "id": "dd1kThCJxZk9"
      },
      "source": [
        "**Exercício 02:**\n",
        "\n",
        "Construa uma função que receba uma data no formato DD/MM/AAAA e devolva uma string no formato DD de mesPorExtenso de AAAA. Opcionalmente, valide a data e retorne NULL caso a data seja inválida."
      ]
    },
    {
      "cell_type": "code",
      "metadata": {
        "id": "hvHQa1lXzgIc"
      },
      "source": [
        ""
      ],
      "execution_count": null,
      "outputs": []
    },
    {
      "cell_type": "markdown",
      "metadata": {
        "id": "2q85IrTDzjDL"
      },
      "source": [
        "**Exercício 03:**\n",
        "\n",
        "Classe Bola: Crie uma classe que modele uma bola com os seguintes atributos e métodos:\n",
        "\n",
        "a) Atributos: Cor, circunferência, material\n",
        "\n",
        "b) Métodos: trocaCor e mostraCor"
      ]
    },
    {
      "cell_type": "code",
      "metadata": {
        "id": "B7VNfuR5zrRK"
      },
      "source": [
        ""
      ],
      "execution_count": null,
      "outputs": []
    },
    {
      "cell_type": "markdown",
      "metadata": {
        "id": "_MEx9lnYzxTW"
      },
      "source": [
        "**Exercício 04:**\n",
        "\n",
        "Classe TV: Faça um programa que simule um televisor criando-o como um objeto. O usuário deve ser capaz de informar o número do canal e aumentar ou diminuir o volume. Certifique-se de que o número do canal e o nível do volume permanecem dentro de faixas válidas."
      ]
    },
    {
      "cell_type": "code",
      "metadata": {
        "id": "gx8U1MJW0B5y"
      },
      "source": [
        ""
      ],
      "execution_count": null,
      "outputs": []
    }
  ]
}