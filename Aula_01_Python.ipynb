{
  "nbformat": 4,
  "nbformat_minor": 0,
  "metadata": {
    "colab": {
      "name": "Aula 01 - Python.ipynb ",
      "provenance": [],
      "collapsed_sections": []
    },
    "kernelspec": {
      "name": "python3",
      "display_name": "Python 3"
    },
    "language_info": {
      "name": "python"
    }
  },
  "cells": [
    {
      "cell_type": "markdown",
      "metadata": {
        "id": "7WGT5idjnp4-"
      },
      "source": [
        "# **Instituto Tecnológico Vale**\n",
        "\n",
        "## **Elementos de Automação e Programação para Automação**\n",
        "\n",
        "### **Aula - Programação em Python - Parte 1**\n",
        "\n",
        "### **Professor: André Almeida Santos**\n",
        "\n"
      ]
    },
    {
      "cell_type": "markdown",
      "metadata": {
        "id": "TfLJf3wQwxSv"
      },
      "source": [
        "## **Por que Python?**\n",
        "\n",
        "- Python funciona em diferentes plataformas (Windows, Mac, Linux, Raspberry Pi, etc).\n",
        "\n",
        "- Python tem uma sintaxe simples semelhante à do idioma inglês.\n",
        "\n",
        "- Python tem sintaxe que permite aos desenvolvedores escrever programas com menos linhas do que algumas outras linguagens de programação.\n",
        "\n",
        "- Python é executado em um sistema interpretador, o que significa que o código pode ser executado assim que for escrito. Isso significa que a prototipagem pode ser muito rápida.\n",
        "\n",
        "- Python pode ser tratado de maneira procedimental, funcional ou orientada a objetos."
      ]
    },
    {
      "cell_type": "markdown",
      "metadata": {
        "id": "XSJ0wL7mt0De"
      },
      "source": [
        "### **Python é uma linguagem de programação popular. Foi criado por Guido van Rossum e lançado em 1991:**\n",
        "\n",
        "A versão principal mais recente do Python é o **Python 3**, que usaremos neste tutorial.\n",
        "\n",
        "- Python pode ser usado em um servidor para criar aplicativos da web.\n",
        "\n",
        "- Python pode ser usado junto com software para criar fluxos de trabalho.\n",
        "\n",
        "- Python pode se conectar a sistemas de banco de dados. Ele também pode ler e modificar arquivos.\n",
        "\n",
        "- Python pode ser usado para lidar com big data e executar matemática complexa.\n",
        "\n",
        "- Python pode ser usado para prototipagem rápida ou para desenvolvimento de software pronto para produção.\n"
      ]
    },
    {
      "cell_type": "markdown",
      "metadata": {
        "id": "S8_Jjui2xaLz"
      },
      "source": [
        "### **Sintaxe Python:**\n",
        "\n",
        "- Python usa novas linhas para completar um comando, ao contrário de outras linguagens de programação que geralmente usam ponto-e-vírgula ou parênteses.\n",
        "\n",
        "- Python depende de **indentação**, usando espaços em branco, para definir o escopo; como o escopo de loops, funções e classes. Outras linguagens de programação costumam usar chaves para esse propósito.\n",
        "\n",
        "- Comentários de uma linha com Python são feitos com #."
      ]
    },
    {
      "cell_type": "code",
      "metadata": {
        "id": "4BJcsRJwnpgK"
      },
      "source": [
        "# Isso é um comentario:\n",
        "\n",
        "# A celula abaixo é uma célula de código a ser executada"
      ],
      "execution_count": null,
      "outputs": []
    },
    {
      "cell_type": "code",
      "metadata": {
        "id": "4qcpvqRT1Qm_",
        "colab": {
          "base_uri": "https://localhost:8080/"
        },
        "outputId": "00127da1-c875-4798-83f0-f0d90ee252d9"
      },
      "source": [
        "print('Hello, World!') # comentário pode estar na célula de código também!"
      ],
      "execution_count": null,
      "outputs": [
        {
          "output_type": "stream",
          "name": "stdout",
          "text": [
            "Hello, World!\n"
          ]
        }
      ]
    },
    {
      "cell_type": "markdown",
      "metadata": {
        "id": "EiEGNWmW0vAK"
      },
      "source": [
        "## **Vamos começar?** \n",
        "\n",
        "Primeiro vamos verificar a versão do python aqui no google colab!"
      ]
    },
    {
      "cell_type": "code",
      "metadata": {
        "id": "_wSQvN8EmqDg",
        "colab": {
          "base_uri": "https://localhost:8080/"
        },
        "outputId": "b25fb89b-a60e-461e-dfa4-7796e00fcef1"
      },
      "source": [
        "!python --version"
      ],
      "execution_count": null,
      "outputs": [
        {
          "output_type": "stream",
          "name": "stdout",
          "text": [
            "Python 3.7.12\n"
          ]
        }
      ]
    },
    {
      "cell_type": "markdown",
      "metadata": {
        "id": "1Y1ghd_t2I3Y"
      },
      "source": [
        "## **Variáveis e tipos de dados**"
      ]
    },
    {
      "cell_type": "markdown",
      "metadata": {
        "id": "lIO1RUb34Szg"
      },
      "source": [
        "### Variáveis são contêineres para armazenar valores de dados.\n",
        "\n",
        "Python não tem comando para declarar uma variável.\n",
        "\n",
        "Uma variável é criada no momento em que você atribui um valor a ela."
      ]
    },
    {
      "cell_type": "markdown",
      "metadata": {
        "id": "PKTMCDT67KfF"
      },
      "source": [
        "### **Nomes de variáveis**.\n",
        "\n",
        "Regras para variáveis Python:\n",
        "\n",
        "- Um nome de variável deve começar com uma letra ou o caractere de sublinhado\n",
        "\n",
        "- O nome de uma variável não pode começar com um número\n",
        "\n",
        "- Um nome de variável pode conter apenas caracteres alfanuméricos e sublinhados (A-z, 0-9 e _)\n",
        "\n",
        "- Os nomes das variáveis diferenciam maiúsculas de minúsculas (Idade, idade e IDADE são três variáveis diferentes)"
      ]
    },
    {
      "cell_type": "code",
      "metadata": {
        "id": "AkKLueXI7M8K"
      },
      "source": [
        "myvar = \"John\"\n",
        "my_var = \"John\"\n",
        "_my_var = \"John\""
      ],
      "execution_count": null,
      "outputs": []
    },
    {
      "cell_type": "code",
      "metadata": {
        "id": "x4tRZxAr7wxn",
        "colab": {
          "base_uri": "https://localhost:8080/"
        },
        "outputId": "14173416-5fc4-4a7c-b217-5ff24ee3a79a"
      },
      "source": [
        "print(myvar, my_var, _my_var)"
      ],
      "execution_count": null,
      "outputs": [
        {
          "output_type": "stream",
          "name": "stdout",
          "text": [
            "John John John\n"
          ]
        }
      ]
    },
    {
      "cell_type": "markdown",
      "metadata": {
        "id": "AS3NKQF_oS6M"
      },
      "source": [
        "### **Tipos numéricos**"
      ]
    },
    {
      "cell_type": "code",
      "metadata": {
        "id": "2JCACGh21Bq0"
      },
      "source": [
        "x = 5"
      ],
      "execution_count": null,
      "outputs": []
    },
    {
      "cell_type": "code",
      "metadata": {
        "id": "Avk0B7114obM",
        "colab": {
          "base_uri": "https://localhost:8080/"
        },
        "outputId": "c17a780a-3492-4e01-8a9e-c807ad41b9a9"
      },
      "source": [
        "print(x)"
      ],
      "execution_count": null,
      "outputs": [
        {
          "output_type": "stream",
          "name": "stdout",
          "text": [
            "5\n"
          ]
        }
      ]
    },
    {
      "cell_type": "code",
      "metadata": {
        "id": "odFLuszb4sO6",
        "colab": {
          "base_uri": "https://localhost:8080/"
        },
        "outputId": "553e9144-b060-4ee2-b33a-4a84130d3808"
      },
      "source": [
        "print(type(x))"
      ],
      "execution_count": null,
      "outputs": [
        {
          "output_type": "stream",
          "name": "stdout",
          "text": [
            "<class 'int'>\n"
          ]
        }
      ]
    },
    {
      "cell_type": "code",
      "metadata": {
        "id": "-CjVpgTi454P"
      },
      "source": [
        "x = 5.0"
      ],
      "execution_count": null,
      "outputs": []
    },
    {
      "cell_type": "code",
      "metadata": {
        "id": "PiSm1dVO4-47",
        "colab": {
          "base_uri": "https://localhost:8080/"
        },
        "outputId": "e648f8b7-d160-425c-dfa9-18467fe4b210"
      },
      "source": [
        "print(type(x))"
      ],
      "execution_count": null,
      "outputs": [
        {
          "output_type": "stream",
          "name": "stdout",
          "text": [
            "<class 'float'>\n"
          ]
        }
      ]
    },
    {
      "cell_type": "code",
      "metadata": {
        "id": "OHCSV2lZooZ4",
        "colab": {
          "base_uri": "https://localhost:8080/"
        },
        "outputId": "f9fa7c5c-4624-43ee-f923-db5b7206976d"
      },
      "source": [
        "y = int(5.4)\n",
        "\n",
        "print(y)\n",
        "\n",
        "print(type(y))"
      ],
      "execution_count": null,
      "outputs": [
        {
          "output_type": "stream",
          "name": "stdout",
          "text": [
            "5\n",
            "<class 'int'>\n"
          ]
        }
      ]
    },
    {
      "cell_type": "markdown",
      "metadata": {
        "id": "2ELoLjjHADr9"
      },
      "source": [
        "### **Booleanos**\n",
        "\n",
        "Python implementa todos os operadores usuais para lógica booleana, mas usa palavras em inglês em vez de símbolos (&&, ||, etc.):"
      ]
    },
    {
      "cell_type": "code",
      "metadata": {
        "id": "saKzXnxZ6e8Z",
        "colab": {
          "base_uri": "https://localhost:8080/"
        },
        "outputId": "d4b1ebaf-d2c0-4693-d09b-ebe5f0263308"
      },
      "source": [
        "t, f = True, False\n",
        "\n",
        "print(t)\n",
        "print(type(t))"
      ],
      "execution_count": null,
      "outputs": [
        {
          "output_type": "stream",
          "name": "stdout",
          "text": [
            "True\n",
            "<class 'bool'>\n"
          ]
        }
      ]
    },
    {
      "cell_type": "code",
      "metadata": {
        "colab": {
          "base_uri": "https://localhost:8080/"
        },
        "id": "kErVtQgQFpKX",
        "outputId": "d8400d05-8a5c-46e2-90db-5528d2e6cdd4"
      },
      "source": [
        "print(f)\n",
        "print(type(f))"
      ],
      "execution_count": null,
      "outputs": [
        {
          "output_type": "stream",
          "name": "stdout",
          "text": [
            "False\n",
            "<class 'bool'>\n"
          ]
        }
      ]
    },
    {
      "cell_type": "markdown",
      "metadata": {
        "id": "pevudyUUARjF"
      },
      "source": [
        "Agora vamos dar uma olhada nas operações:"
      ]
    },
    {
      "cell_type": "code",
      "metadata": {
        "id": "Qbebv38pAO9m",
        "colab": {
          "base_uri": "https://localhost:8080/"
        },
        "outputId": "b78b9036-bf1d-4d49-9567-81e418028b22"
      },
      "source": [
        "print(t and f) # Logical AND;"
      ],
      "execution_count": null,
      "outputs": [
        {
          "output_type": "stream",
          "name": "stdout",
          "text": [
            "False\n"
          ]
        }
      ]
    },
    {
      "cell_type": "code",
      "metadata": {
        "id": "KQ2FH6WZBS4d",
        "colab": {
          "base_uri": "https://localhost:8080/"
        },
        "outputId": "2f32b37b-7d6a-4148-8983-aa7dd82e0e42"
      },
      "source": [
        "print(t or f)  # Logical OR;"
      ],
      "execution_count": null,
      "outputs": [
        {
          "output_type": "stream",
          "name": "stdout",
          "text": [
            "True\n"
          ]
        }
      ]
    },
    {
      "cell_type": "code",
      "metadata": {
        "id": "tLdbESS2BUa4",
        "colab": {
          "base_uri": "https://localhost:8080/"
        },
        "outputId": "97dd9fe0-90bd-4b23-da32-8965825c8816"
      },
      "source": [
        "print(not t)   # Logical NOT;"
      ],
      "execution_count": null,
      "outputs": [
        {
          "output_type": "stream",
          "name": "stdout",
          "text": [
            "False\n"
          ]
        }
      ]
    },
    {
      "cell_type": "code",
      "metadata": {
        "id": "tnk57JgzBWLM",
        "colab": {
          "base_uri": "https://localhost:8080/"
        },
        "outputId": "1e092717-6afc-4a9a-c6e8-7766057c5501"
      },
      "source": [
        "print(t != f)  # Logical XOR;"
      ],
      "execution_count": null,
      "outputs": [
        {
          "output_type": "stream",
          "name": "stdout",
          "text": [
            "True\n"
          ]
        }
      ]
    },
    {
      "cell_type": "code",
      "metadata": {
        "colab": {
          "base_uri": "https://localhost:8080/"
        },
        "id": "jZ77r3PRGP0T",
        "outputId": "3e642ca1-360a-4b5d-d0c6-2cf2322ad9ae"
      },
      "source": [
        "print(t == f)"
      ],
      "execution_count": null,
      "outputs": [
        {
          "output_type": "stream",
          "name": "stdout",
          "text": [
            "False\n"
          ]
        }
      ]
    },
    {
      "cell_type": "code",
      "metadata": {
        "id": "Cqq77_Cjl6xx"
      },
      "source": [
        "# Três variáveis\n",
        "\n",
        "t1 = True\n",
        "f = False\n",
        "t2 = False"
      ],
      "execution_count": null,
      "outputs": []
    },
    {
      "cell_type": "code",
      "metadata": {
        "id": "QpMsboTWmFYp",
        "colab": {
          "base_uri": "https://localhost:8080/"
        },
        "outputId": "0b3a39b6-fd15-4dfd-94b0-efb172f0e49b"
      },
      "source": [
        "# Testar lógica booleana com as três variáveis aqui.\n",
        "\n",
        "print(t1 and f or not t2)"
      ],
      "execution_count": null,
      "outputs": [
        {
          "output_type": "stream",
          "name": "stdout",
          "text": [
            "True\n"
          ]
        }
      ]
    },
    {
      "cell_type": "markdown",
      "metadata": {
        "id": "SXlfrkgYCE9q"
      },
      "source": [
        "### **Strings**\n",
        "\n",
        "Strings são sequências imutáveis de caracteres Unicode."
      ]
    },
    {
      "cell_type": "code",
      "metadata": {
        "id": "UzVYESKBCc2k",
        "colab": {
          "base_uri": "https://localhost:8080/"
        },
        "outputId": "82d6e50c-949e-4d85-fa7b-0478e4d8fea3"
      },
      "source": [
        "hello = 'hello'   # Literais de string podem usar aspas simples\n",
        "world = \"world\"   # ou aspas duplas; isso não importa\n",
        "\n",
        "print(hello, len(hello))"
      ],
      "execution_count": null,
      "outputs": [
        {
          "output_type": "stream",
          "name": "stdout",
          "text": [
            "hello 5\n"
          ]
        }
      ]
    },
    {
      "cell_type": "code",
      "metadata": {
        "id": "JEEKksO-CfOd",
        "colab": {
          "base_uri": "https://localhost:8080/"
        },
        "outputId": "4a7efd36-5f2e-4a7a-c918-37b4dac166e0"
      },
      "source": [
        "# Concatenação de Strings\n",
        "\n",
        "hw = hello + ' ' + world + 'na aula de hoje' \n",
        "print(hw)"
      ],
      "execution_count": null,
      "outputs": [
        {
          "output_type": "stream",
          "name": "stdout",
          "text": [
            "hello world na aula de hoje\n"
          ]
        }
      ]
    },
    {
      "cell_type": "code",
      "metadata": {
        "id": "_OIGrFhyCqIf",
        "colab": {
          "base_uri": "https://localhost:8080/"
        },
        "outputId": "56062118-9a94-4ee0-bde3-7aaf274c0cb8"
      },
      "source": [
        "# formatação de string\n",
        "\n",
        "hw_ = 'formatando o {} {}'.format(hello, world)\n",
        "print(hw_)"
      ],
      "execution_count": null,
      "outputs": [
        {
          "output_type": "stream",
          "name": "stdout",
          "text": [
            "formatando o hello world\n"
          ]
        }
      ]
    },
    {
      "cell_type": "code",
      "metadata": {
        "id": "M5CTRl1XCuec",
        "colab": {
          "base_uri": "https://localhost:8080/"
        },
        "outputId": "41c508b1-c65e-42c4-d6a0-da54a409dc86"
      },
      "source": [
        "# formatação de string usando f''\n",
        "\n",
        "hw_ = f'Formatando o {hello} {world}'\n",
        "print(hw_)"
      ],
      "execution_count": null,
      "outputs": [
        {
          "output_type": "stream",
          "name": "stdout",
          "text": [
            "Formatando o hello world\n"
          ]
        }
      ]
    },
    {
      "cell_type": "code",
      "metadata": {
        "id": "XEmx3a5pDFzm",
        "colab": {
          "base_uri": "https://localhost:8080/"
        },
        "outputId": "a8ab56bc-9926-4e56-8b06-dc4ef1a977ff"
      },
      "source": [
        "# Formatando texto com variável numérica\n",
        "\n",
        "x1 = 5\n",
        "x2 = 10.2\n",
        "\n",
        "print(f'Estou afirmando que: {x1:.3f} é menor do que {x2:.5f}')"
      ],
      "execution_count": null,
      "outputs": [
        {
          "output_type": "stream",
          "name": "stdout",
          "text": [
            "Estou afirmando que: 5.000 é menor do que 10.20000\n"
          ]
        }
      ]
    },
    {
      "cell_type": "markdown",
      "metadata": {
        "id": "UXUiLG7_EAFC"
      },
      "source": [
        "Os objetos String têm vários métodos úteis nativos do python; \n",
        "\n",
        "Por exemplo:"
      ]
    },
    {
      "cell_type": "code",
      "metadata": {
        "id": "taAc_Am2Dt1i",
        "colab": {
          "base_uri": "https://localhost:8080/"
        },
        "outputId": "c9fd0dc1-1b4f-48a4-85d4-12547aa1991c"
      },
      "source": [
        "# Variavel s com nome hello\n",
        "\n",
        "s = \"hello\"\n",
        "\n",
        "print(s)"
      ],
      "execution_count": null,
      "outputs": [
        {
          "output_type": "stream",
          "name": "stdout",
          "text": [
            "hello\n"
          ]
        }
      ]
    },
    {
      "cell_type": "code",
      "metadata": {
        "id": "nkX26RbOCnV1",
        "colab": {
          "base_uri": "https://localhost:8080/"
        },
        "outputId": "c9be1dc0-f152-46aa-9c1a-8bf02c93efb9"
      },
      "source": [
        "# Capitalizar uma string (primeira letra maiuscula)\n",
        "\n",
        "print(s.capitalize())  "
      ],
      "execution_count": null,
      "outputs": [
        {
          "output_type": "stream",
          "name": "stdout",
          "text": [
            "Hello\n"
          ]
        }
      ]
    },
    {
      "cell_type": "code",
      "metadata": {
        "id": "ACpsLxtmCYCr",
        "colab": {
          "base_uri": "https://localhost:8080/"
        },
        "outputId": "0db2d3d0-93c9-479b-e0e9-804a9af40545"
      },
      "source": [
        "# Converter a string pra maisculas; resultado é: \"HELLO\"\n",
        "\n",
        "print(s.upper())"
      ],
      "execution_count": null,
      "outputs": [
        {
          "output_type": "stream",
          "name": "stdout",
          "text": [
            "HELLO\n"
          ]
        }
      ]
    },
    {
      "cell_type": "code",
      "metadata": {
        "id": "rrHRB3b4CZrX",
        "colab": {
          "base_uri": "https://localhost:8080/"
        },
        "outputId": "e67a4cb2-c4f5-457b-eaeb-d5b4a4d8fde1"
      },
      "source": [
        "# Justificar a direita, adicionando espaços em branco\n",
        "\n",
        "print(s.rjust(15))"
      ],
      "execution_count": null,
      "outputs": [
        {
          "output_type": "stream",
          "name": "stdout",
          "text": [
            "          hello\n"
          ]
        }
      ]
    },
    {
      "cell_type": "code",
      "metadata": {
        "id": "crlDq7CqCc0z",
        "colab": {
          "base_uri": "https://localhost:8080/"
        },
        "outputId": "cf25c3c0-ca18-478d-f792-3aa08c539fb6"
      },
      "source": [
        "# Centrar uma string, usando espaços em branco\n",
        "\n",
        "print(s.center(15))"
      ],
      "execution_count": null,
      "outputs": [
        {
          "output_type": "stream",
          "name": "stdout",
          "text": [
            "     hello     \n"
          ]
        }
      ]
    },
    {
      "cell_type": "code",
      "metadata": {
        "id": "Z0xFajHWCec0",
        "colab": {
          "base_uri": "https://localhost:8080/"
        },
        "outputId": "4cf1180c-4e7e-4944-c2d8-c4cd2fb2b10f"
      },
      "source": [
        "# Trocar todas as ocorrencias de uma string com outra\n",
        "\n",
        "print(s.replace('l', 'L'))"
      ],
      "execution_count": null,
      "outputs": [
        {
          "output_type": "stream",
          "name": "stdout",
          "text": [
            "heLLo\n"
          ]
        }
      ]
    },
    {
      "cell_type": "code",
      "metadata": {
        "id": "aQdev3AQCftq",
        "colab": {
          "base_uri": "https://localhost:8080/"
        },
        "outputId": "0379fbc5-60fb-4475-9364-9a5a7557694b"
      },
      "source": [
        "# Remover espaços em branco do começo e final da string\n",
        "\n",
        "print('  world  ')\n",
        "print('  world  '.strip())"
      ],
      "execution_count": null,
      "outputs": [
        {
          "output_type": "stream",
          "name": "stdout",
          "text": [
            "  world  \n",
            "world\n"
          ]
        }
      ]
    },
    {
      "cell_type": "markdown",
      "metadata": {
        "id": "a9KsxVfGESx5"
      },
      "source": [
        "Você pode encontrar uma lista de todos os métodos de string na [documentação](https://docs.python.org/3.7/library/stdtypes.html#string-methods)."
      ]
    },
    {
      "cell_type": "markdown",
      "metadata": {
        "id": "xwDJAJUj6OWv"
      },
      "source": [
        "## **Operações básicas**"
      ]
    },
    {
      "cell_type": "code",
      "metadata": {
        "id": "v4IQQdKJ_PEA",
        "colab": {
          "base_uri": "https://localhost:8080/"
        },
        "outputId": "4df93663-cf67-43f7-efd5-d1b050cfd18e"
      },
      "source": [
        "x = 5\n",
        "\n",
        "x + 1"
      ],
      "execution_count": null,
      "outputs": [
        {
          "output_type": "execute_result",
          "data": {
            "text/plain": [
              "6"
            ]
          },
          "metadata": {},
          "execution_count": 51
        }
      ]
    },
    {
      "cell_type": "code",
      "metadata": {
        "id": "smOInsah5Ba6",
        "colab": {
          "base_uri": "https://localhost:8080/"
        },
        "outputId": "2dd02e99-531d-44ea-ae80-127980a220b8"
      },
      "source": [
        "# Soma\n",
        "\n",
        "print(x + 1)  "
      ],
      "execution_count": null,
      "outputs": [
        {
          "output_type": "stream",
          "name": "stdout",
          "text": [
            "7\n"
          ]
        }
      ]
    },
    {
      "cell_type": "code",
      "metadata": {
        "id": "BCZ0559DDiQv",
        "colab": {
          "base_uri": "https://localhost:8080/"
        },
        "outputId": "90b65963-086d-494c-8ac7-0dc237523200"
      },
      "source": [
        "# subtração\n",
        "\n",
        "print(x - 1)  "
      ],
      "execution_count": null,
      "outputs": [
        {
          "output_type": "stream",
          "name": "stdout",
          "text": [
            "4\n"
          ]
        }
      ]
    },
    {
      "cell_type": "code",
      "metadata": {
        "id": "G0HSWyVlDkCN",
        "colab": {
          "base_uri": "https://localhost:8080/"
        },
        "outputId": "4ed80aa5-2666-4b5d-b2ad-bfd8532d304f"
      },
      "source": [
        "# Multiplicação\n",
        "\n",
        "print(x * 2)  "
      ],
      "execution_count": null,
      "outputs": [
        {
          "output_type": "stream",
          "name": "stdout",
          "text": [
            "10\n"
          ]
        }
      ]
    },
    {
      "cell_type": "code",
      "metadata": {
        "id": "o4Hsq6y75V3t",
        "colab": {
          "base_uri": "https://localhost:8080/"
        },
        "outputId": "7cc0863c-a6d8-4dae-eb6a-0e1a82c8efe7"
      },
      "source": [
        "# mesmo que x = x + 1\n",
        "\n",
        "x += 1 \n",
        "print(x)"
      ],
      "execution_count": null,
      "outputs": [
        {
          "output_type": "stream",
          "name": "stdout",
          "text": [
            "6\n"
          ]
        }
      ]
    },
    {
      "cell_type": "code",
      "metadata": {
        "id": "58rD9qs5DnED",
        "colab": {
          "base_uri": "https://localhost:8080/"
        },
        "outputId": "b40eabb7-ba52-4e9b-80c6-1ce1bea0c44b"
      },
      "source": [
        "# Exponenciação\n",
        "\n",
        "print(x ** 3) "
      ],
      "execution_count": null,
      "outputs": [
        {
          "output_type": "stream",
          "name": "stdout",
          "text": [
            "216\n"
          ]
        }
      ]
    },
    {
      "cell_type": "code",
      "metadata": {
        "id": "_conIQy0DorI",
        "colab": {
          "base_uri": "https://localhost:8080/"
        },
        "outputId": "25c2d670-2514-4bf0-ff64-f7563d3b299e"
      },
      "source": [
        "# Divisão\n",
        "\n",
        "print(x / 2)    "
      ],
      "execution_count": null,
      "outputs": [
        {
          "output_type": "stream",
          "name": "stdout",
          "text": [
            "3.0\n"
          ]
        }
      ]
    },
    {
      "cell_type": "code",
      "metadata": {
        "id": "pKz3kVjeDqX9",
        "colab": {
          "base_uri": "https://localhost:8080/"
        },
        "outputId": "0b7b722d-1226-4522-a7c2-cc19e91e78b9"
      },
      "source": [
        "# Divisão inteira\n",
        "\n",
        "print(x // 2)   "
      ],
      "execution_count": null,
      "outputs": [
        {
          "output_type": "stream",
          "name": "stdout",
          "text": [
            "3\n"
          ]
        }
      ]
    },
    {
      "cell_type": "code",
      "metadata": {
        "id": "gqyfq-TeDufZ",
        "colab": {
          "base_uri": "https://localhost:8080/"
        },
        "outputId": "2f8a309d-fd3e-4859-8828-b89d0d479b81"
      },
      "source": [
        "# Resto\n",
        "\n",
        "print(x % 2)    "
      ],
      "execution_count": null,
      "outputs": [
        {
          "output_type": "stream",
          "name": "stdout",
          "text": [
            "0\n"
          ]
        }
      ]
    },
    {
      "cell_type": "code",
      "metadata": {
        "id": "ssPznzPs6GYM",
        "colab": {
          "base_uri": "https://localhost:8080/"
        },
        "outputId": "787ba1aa-cefe-4dcd-c347-1f58ce3b79fd"
      },
      "source": [
        "# mesmo que x = x * 2\n",
        "\n",
        "x *= 2 \n",
        "print(x)"
      ],
      "execution_count": null,
      "outputs": [
        {
          "output_type": "stream",
          "name": "stdout",
          "text": [
            "12\n"
          ]
        }
      ]
    },
    {
      "cell_type": "code",
      "metadata": {
        "id": "kKwBt1SMDwEc",
        "colab": {
          "base_uri": "https://localhost:8080/"
        },
        "outputId": "e0b0430d-430f-471f-c86e-bd4506dbe9b4"
      },
      "source": [
        "# Número complexo \n",
        "\n",
        "print(complex(2,3))"
      ],
      "execution_count": null,
      "outputs": [
        {
          "output_type": "stream",
          "name": "stdout",
          "text": [
            "(2+3j)\n"
          ]
        }
      ]
    },
    {
      "cell_type": "code",
      "metadata": {
        "colab": {
          "base_uri": "https://localhost:8080/"
        },
        "id": "XznTxjIiM_Uo",
        "outputId": "66b50ce5-502d-4136-de75-8f6471418585"
      },
      "source": [
        "n_complexo = complex(2,3)\n",
        "print(n_complexo + 8j)"
      ],
      "execution_count": null,
      "outputs": [
        {
          "output_type": "stream",
          "name": "stdout",
          "text": [
            "(2+11j)\n"
          ]
        }
      ]
    },
    {
      "cell_type": "markdown",
      "metadata": {
        "id": "dLzbVRK2_laP"
      },
      "source": [
        "Todos os detalhes estão na [documentação](https://docs.python.org/3/library/stdtypes.html#numeric-types-int-float-complex) do python."
      ]
    },
    {
      "cell_type": "markdown",
      "metadata": {
        "id": "Qepz0M59AulD"
      },
      "source": [
        "## **Comparações**\n",
        "\n",
        "Existem oito operações de comparação em Python. Veja a descrição na [documentação](https://docs.python.org/3/library/stdtypes.html#comparisons)"
      ]
    },
    {
      "cell_type": "code",
      "metadata": {
        "id": "CLHBgdnaATYY",
        "colab": {
          "base_uri": "https://localhost:8080/"
        },
        "outputId": "b90181d2-f2d8-4ef0-9d5e-d3fd58ba3863"
      },
      "source": [
        "5 < 3"
      ],
      "execution_count": null,
      "outputs": [
        {
          "output_type": "execute_result",
          "data": {
            "text/plain": [
              "False"
            ]
          },
          "metadata": {},
          "execution_count": 72
        }
      ]
    },
    {
      "cell_type": "code",
      "metadata": {
        "id": "vA71WTZ2BFsN",
        "colab": {
          "base_uri": "https://localhost:8080/"
        },
        "outputId": "7e81227d-1e1e-40ff-95a9-3c8669da3e0a"
      },
      "source": [
        "10 > 5"
      ],
      "execution_count": null,
      "outputs": [
        {
          "output_type": "execute_result",
          "data": {
            "text/plain": [
              "True"
            ]
          },
          "metadata": {},
          "execution_count": 73
        }
      ]
    },
    {
      "cell_type": "code",
      "metadata": {
        "id": "9PHWn2XzBIUg"
      },
      "source": [
        "# Atribuindo True e False para t e f\n",
        "\n",
        "t = True\n",
        "f = False"
      ],
      "execution_count": null,
      "outputs": []
    },
    {
      "cell_type": "code",
      "metadata": {
        "id": "mNI88sdsEnNU",
        "colab": {
          "base_uri": "https://localhost:8080/"
        },
        "outputId": "d0bab8d7-0f25-4821-df2d-bdf602ea5072"
      },
      "source": [
        "t == f"
      ],
      "execution_count": null,
      "outputs": [
        {
          "output_type": "execute_result",
          "data": {
            "text/plain": [
              "False"
            ]
          },
          "metadata": {},
          "execution_count": 75
        }
      ]
    },
    {
      "cell_type": "code",
      "metadata": {
        "id": "qjRepjwQBOAJ",
        "colab": {
          "base_uri": "https://localhost:8080/"
        },
        "outputId": "3cb1a7fb-ea24-4679-ce6d-b18205dd1e7e"
      },
      "source": [
        "t != f"
      ],
      "execution_count": null,
      "outputs": [
        {
          "output_type": "execute_result",
          "data": {
            "text/plain": [
              "True"
            ]
          },
          "metadata": {},
          "execution_count": 76
        }
      ]
    },
    {
      "cell_type": "markdown",
      "metadata": {
        "id": "8qa4M1RVFj6K"
      },
      "source": [
        "## **Entrada de usuário**\n",
        "\n",
        "A função input() permite a entrada de dados do usuário."
      ]
    },
    {
      "cell_type": "code",
      "metadata": {
        "id": "s6tdT6p5EuNs",
        "colab": {
          "base_uri": "https://localhost:8080/",
          "height": 52
        },
        "outputId": "6649eaaf-2abc-4ce2-b14f-ce189edc5c77"
      },
      "source": [
        "input('Digite algo aqui: ')"
      ],
      "execution_count": null,
      "outputs": [
        {
          "name": "stdout",
          "output_type": "stream",
          "text": [
            "Digite algo aqui: jshfkjashfkjasbflasgfalk\n"
          ]
        },
        {
          "output_type": "execute_result",
          "data": {
            "application/vnd.google.colaboratory.intrinsic+json": {
              "type": "string"
            },
            "text/plain": [
              "'jshfkjashfkjasbflasgfalk'"
            ]
          },
          "metadata": {},
          "execution_count": 77
        }
      ]
    },
    {
      "cell_type": "code",
      "metadata": {
        "id": "OXBxcLCTECDm",
        "colab": {
          "base_uri": "https://localhost:8080/"
        },
        "outputId": "2886a69f-a628-4ca4-9bc6-f8334a7396f4"
      },
      "source": [
        "print('Digite seu nome:')\n",
        "\n",
        "x = input()\n",
        "\n",
        "print(f'Olá, {x}!')"
      ],
      "execution_count": null,
      "outputs": [
        {
          "output_type": "stream",
          "name": "stdout",
          "text": [
            "Digite seu nome:\n",
            "andre\n",
            "Olá, andre!\n"
          ]
        }
      ]
    },
    {
      "cell_type": "code",
      "metadata": {
        "id": "s0bisccSGHB8",
        "colab": {
          "base_uri": "https://localhost:8080/"
        },
        "outputId": "58c27308-1707-42ea-e7f7-66f3719eecc3"
      },
      "source": [
        "print(type(x))"
      ],
      "execution_count": null,
      "outputs": [
        {
          "output_type": "stream",
          "name": "stdout",
          "text": [
            "<class 'str'>\n"
          ]
        }
      ]
    },
    {
      "cell_type": "code",
      "metadata": {
        "id": "WAqy_dXHGcFL",
        "colab": {
          "base_uri": "https://localhost:8080/"
        },
        "outputId": "6b817e75-cf97-4c89-c6fa-985e9f2afdd7"
      },
      "source": [
        "# Entrada padrão\n",
        "\n",
        "print('Digite um número inteiro:')\n",
        "num = input()\n",
        "\n",
        "print(type(num))"
      ],
      "execution_count": null,
      "outputs": [
        {
          "output_type": "stream",
          "name": "stdout",
          "text": [
            "Digite um número inteiro:\n",
            "5\n",
            "<class 'str'>\n"
          ]
        }
      ]
    },
    {
      "cell_type": "code",
      "metadata": {
        "id": "auwu5Y6oGnUy",
        "colab": {
          "base_uri": "https://localhost:8080/"
        },
        "outputId": "7337fb13-430a-4f45-d1d7-ca7a7737eae9"
      },
      "source": [
        "# Entrada com casting da variável\n",
        "\n",
        "print('Digite um número inteiro:')\n",
        "\n",
        "num = int(input())\n",
        "\n",
        "print(type(num))"
      ],
      "execution_count": null,
      "outputs": [
        {
          "output_type": "stream",
          "name": "stdout",
          "text": [
            "Digite um número inteiro:\n",
            "4\n",
            "<class 'float'>\n"
          ]
        }
      ]
    },
    {
      "cell_type": "code",
      "metadata": {
        "id": "TI9OawIMGxaF",
        "colab": {
          "base_uri": "https://localhost:8080/"
        },
        "outputId": "01344a91-7cd6-447c-881f-a73f94c5c965"
      },
      "source": [
        "# Colocando o texto direto no input...\n",
        "\n",
        "num = int(input('Digite um número inteiro: '))\n",
        "print(num)"
      ],
      "execution_count": null,
      "outputs": [
        {
          "output_type": "stream",
          "name": "stdout",
          "text": [
            "Digite um número inteiro: 4\n",
            "4\n"
          ]
        }
      ]
    },
    {
      "cell_type": "markdown",
      "metadata": {
        "id": "K6JIrxRyL8QU"
      },
      "source": [
        "### **Informações dos dados de input**"
      ]
    },
    {
      "cell_type": "code",
      "metadata": {
        "id": "-ZbWwjUrL_qd",
        "colab": {
          "base_uri": "https://localhost:8080/"
        },
        "outputId": "245a8a4a-fb87-4c7c-d900-ec9a41345e14"
      },
      "source": [
        "num = input('Digite algo... ')"
      ],
      "execution_count": null,
      "outputs": [
        {
          "name": "stdout",
          "output_type": "stream",
          "text": [
            "Digite algo... 45\n"
          ]
        }
      ]
    },
    {
      "cell_type": "code",
      "metadata": {
        "id": "Js0E_1d-NeAY",
        "colab": {
          "base_uri": "https://localhost:8080/"
        },
        "outputId": "8984ea07-b54e-4f64-c1bf-4bbb7303e65f"
      },
      "source": [
        "# info da variável\n",
        "\n",
        "num.isnumeric()"
      ],
      "execution_count": null,
      "outputs": [
        {
          "output_type": "execute_result",
          "data": {
            "text/plain": [
              "False"
            ]
          },
          "metadata": {},
          "execution_count": 101
        }
      ]
    },
    {
      "cell_type": "markdown",
      "metadata": {
        "id": "bOs5illcI4W4"
      },
      "source": [
        "## **Desafio 01:**\n",
        "\n",
        "Escreva um código que leia dois números complexos do usuário e calcule a soma entre eles."
      ]
    },
    {
      "cell_type": "code",
      "metadata": {
        "id": "_-0UbQ4kVQZs",
        "colab": {
          "base_uri": "https://localhost:8080/"
        },
        "outputId": "6b09d43f-2401-417c-f3f0-f3a402d1f620"
      },
      "source": [
        "r1 = int(input('Digite o valor real do primeiro número: '))\n",
        "im1 = int(input('Digite o valor imaginário do primeiro número: '))\n",
        "\n",
        "r2 = int(input('Digite o valor real do segundo número: '))\n",
        "im2 = int(input('Digite o valor imaginário do segundo número: '))\n",
        "\n",
        "c1 = complex(r1, im1)\n",
        "c2 = complex(r2, im2)\n",
        "\n",
        "print(f'A soma dos números complexos é: {c1+c2}')"
      ],
      "execution_count": null,
      "outputs": [
        {
          "output_type": "stream",
          "name": "stdout",
          "text": [
            "Digite o valor real do primeiro número: 5\n",
            "Digite o valor imaginário do primeiro número: 8\n",
            "Digite o valor real do segundo número: 10\n",
            "Digite o valor imaginário do segundo número: 9\n",
            "A soma dos números complexos é: (15+17j)\n"
          ]
        }
      ]
    },
    {
      "cell_type": "markdown",
      "metadata": {
        "id": "IJqXHgGwNydh"
      },
      "source": [
        "## **Desafio 02:**\n",
        "\n",
        "Escreva um código que leia algo do usuário e mostre na tela o tipo do dado e, pelo menos, 4 informações possíveis sobre ele. \n",
        "\n",
        "Ex: \n",
        "\n",
        "Tipo do dado é string\n",
        "\n",
        "A variável é alfanumérica\n",
        "\n",
        ".\n",
        "\n",
        ".\n",
        "\n",
        ".\n",
        "\n",
        "."
      ]
    },
    {
      "cell_type": "code",
      "metadata": {
        "id": "1dnVkItQV0wO",
        "colab": {
          "base_uri": "https://localhost:8080/"
        },
        "outputId": "22ff0b1a-804a-44ae-d1a1-5b9edfc885cc"
      },
      "source": [
        "dado = input('Digite algo aqui: ')\n",
        "\n",
        "print(f'Tipo de dado é: {type(dado)}')\n",
        "\n",
        "print(f'A variável é numérica: {dado.isnumeric()}')\n",
        "print(f'A variável é alfanumérica: {dado.isalnum()}')\n",
        "print(f'A variável é alfabética: {dado.isalpha()}')\n",
        "print(f'A variável é um dígito: {dado.isdigit()}')"
      ],
      "execution_count": null,
      "outputs": [
        {
          "output_type": "stream",
          "name": "stdout",
          "text": [
            "Digite algo aqui: 45\n",
            "Tipo de dado é: <class 'str'>\n",
            "A variável é numérica: True\n",
            "A variável é alfanumérica: True\n",
            "A variável é alfabética: False\n",
            "A variável é um dígito: True\n"
          ]
        }
      ]
    },
    {
      "cell_type": "markdown",
      "metadata": {
        "id": "iyh6DX2mtNr9"
      },
      "source": [
        "## **Condições Python e instruções If**\n",
        "\n",
        "Python suporta as condições lógicas usuais da matemática.\n",
        "\n",
        "Vamos ver a condição **if**"
      ]
    },
    {
      "cell_type": "code",
      "metadata": {
        "id": "xx4ga3n0t4XP",
        "colab": {
          "base_uri": "https://localhost:8080/"
        },
        "outputId": "e5e195fb-4af2-485a-f897-99d1e329f339"
      },
      "source": [
        "a = 33\n",
        "b = 200\n",
        "\n",
        "if b > a:\n",
        "  print(\"b é maior do que a\")"
      ],
      "execution_count": null,
      "outputs": [
        {
          "output_type": "stream",
          "name": "stdout",
          "text": [
            "b é maior do que a\n"
          ]
        }
      ]
    },
    {
      "cell_type": "markdown",
      "metadata": {
        "id": "GT9EKar6uuZp"
      },
      "source": [
        "A palavra-chave **elif** é a forma de python de dizer \"se as condições anteriores não eram verdadeiras, tente esta outra condição\".\n",
        "\n",
        "senão se <condição>"
      ]
    },
    {
      "cell_type": "code",
      "metadata": {
        "id": "ANbSQcJ-uzLB",
        "colab": {
          "base_uri": "https://localhost:8080/"
        },
        "outputId": "8951bec1-70b6-4649-ab95-958a9592642a"
      },
      "source": [
        "a = 33\n",
        "b = 33\n",
        "\n",
        "if b > a:\n",
        "  print(\"b é maior do que a\")\n",
        "elif a == b:\n",
        "  print(\"a e b são iguais\")"
      ],
      "execution_count": null,
      "outputs": [
        {
          "output_type": "stream",
          "name": "stdout",
          "text": [
            "a e b são iguais\n"
          ]
        }
      ]
    },
    {
      "cell_type": "markdown",
      "metadata": {
        "id": "5BqOLNYyvDwo"
      },
      "source": [
        "A palavra-chave **else** captura qualquer coisa que não seja capturada pelas condições anteriores."
      ]
    },
    {
      "cell_type": "code",
      "metadata": {
        "id": "ZSwgIEXYvEug",
        "colab": {
          "base_uri": "https://localhost:8080/"
        },
        "outputId": "a4cc2532-806f-41f2-8aab-b99b74106c56"
      },
      "source": [
        "a = 200\n",
        "b = 30\n",
        "\n",
        "print('Estou aqui nesse fluxo')\n",
        "\n",
        "if b > a:\n",
        "  print('entrei no teste condicional if')\n",
        "  print(\"b é maior do que a\")\n",
        "elif a == b:\n",
        "  print('entrei no teste condicional elif')\n",
        "  print(\"a e b são iguais\")\n",
        "else:\n",
        "  print('Entrou no no ultimo teste else')\n",
        "  print(\"a é maior do que b\")\n",
        "  print(f'{a} é maior do que {b}')\n",
        "\n",
        "print('Sai do teste condicional e voltei para o fluxo normal')"
      ],
      "execution_count": null,
      "outputs": [
        {
          "output_type": "stream",
          "name": "stdout",
          "text": [
            "Estou aqui nesse fluxo\n",
            "Entrou no no ultimo teste else\n",
            "a é maior do que b\n",
            "200 é maior do que 30\n",
            "Sai do teste condicional e voltei para o fluxo normal\n"
          ]
        }
      ]
    },
    {
      "cell_type": "markdown",
      "metadata": {
        "id": "hIBm2bLOvTBl"
      },
      "source": [
        "**Nota:** Tudo que estiver no bloco identado será executado.\n",
        "\n",
        "Caso haja apenas uma instrução a ser executada, você pode colocar na mesma linha da instrução if"
      ]
    },
    {
      "cell_type": "code",
      "metadata": {
        "id": "cTyUA-59vqur",
        "colab": {
          "base_uri": "https://localhost:8080/"
        },
        "outputId": "da438d71-c4aa-4bdd-c2a2-8723cc3cb3a3"
      },
      "source": [
        "if a > b: print(\"a é maior do que b\")"
      ],
      "execution_count": null,
      "outputs": [
        {
          "output_type": "stream",
          "name": "stdout",
          "text": [
            "a é maior do que b\n"
          ]
        }
      ]
    },
    {
      "cell_type": "markdown",
      "metadata": {
        "id": "WaBmqDsVxPwe"
      },
      "source": [
        "**Nota:** No resultado acima há duas condições verdadeiras. Mas, no teste elif quando a primeira é encontarda os próximos testes nem são realizados. "
      ]
    },
    {
      "cell_type": "markdown",
      "metadata": {
        "id": "7vURmLsc1oid"
      },
      "source": [
        "## **Python Loops**\n",
        "\n",
        "Loops podem ser criados com **for** ou **while**"
      ]
    },
    {
      "cell_type": "markdown",
      "metadata": {
        "id": "W3zloKdg17ql"
      },
      "source": [
        "#### **While Loop**\n",
        "\n",
        "Com o loop while, podemos executar um conjunto de instruções, desde que uma condição seja verdadeira."
      ]
    },
    {
      "cell_type": "code",
      "metadata": {
        "id": "8AgjDCUc1vsw",
        "colab": {
          "base_uri": "https://localhost:8080/"
        },
        "outputId": "c02eb640-c05b-4922-aa80-91339da354e0"
      },
      "source": [
        "#Imprima i, desde que i seja menor que 6:\n",
        "\n",
        "i = 1\n",
        "\n",
        "while i < 6:\n",
        "  print(i)\n",
        "  i += 1"
      ],
      "execution_count": null,
      "outputs": [
        {
          "output_type": "stream",
          "name": "stdout",
          "text": [
            "1\n",
            "2\n",
            "3\n",
            "4\n",
            "5\n"
          ]
        }
      ]
    },
    {
      "cell_type": "markdown",
      "metadata": {
        "id": "0c4QiL032Rsd"
      },
      "source": [
        "**Nota:** lembre-se de incrementar i, ou então o loop continuará para sempre."
      ]
    },
    {
      "cell_type": "code",
      "metadata": {
        "id": "EVXGKC501WzR"
      },
      "source": [
        "# loop infinito\n",
        "\n",
        "while True:\n",
        "  print('Loop infinito!!!')"
      ],
      "execution_count": null,
      "outputs": []
    },
    {
      "cell_type": "markdown",
      "metadata": {
        "id": "yPr6GmJ_2bWK"
      },
      "source": [
        "**A declaração de quebra**\n",
        "\n",
        "Com a instrução **break**, podemos parar o loop mesmo se a condição while for verdadeira:"
      ]
    },
    {
      "cell_type": "code",
      "metadata": {
        "id": "aBuwq9ZC2hY0",
        "colab": {
          "base_uri": "https://localhost:8080/"
        },
        "outputId": "28c0d097-6de7-4b89-aac6-a4d97c472521"
      },
      "source": [
        "i = 1\n",
        "\n",
        "while i < 10:\n",
        "  print(i)\n",
        "\n",
        "  if i == 6:\n",
        "    break\n",
        "    \n",
        "  i += 1"
      ],
      "execution_count": null,
      "outputs": [
        {
          "output_type": "stream",
          "name": "stdout",
          "text": [
            "1\n",
            "2\n",
            "3\n",
            "4\n",
            "5\n",
            "6\n"
          ]
        }
      ]
    },
    {
      "cell_type": "markdown",
      "metadata": {
        "id": "UB38CF9t3--K"
      },
      "source": [
        "**A declaração continue**\n",
        "\n",
        "Com a instrução **continue**, podemos parar a iteração atual e continuar com a próxima:"
      ]
    },
    {
      "cell_type": "code",
      "metadata": {
        "id": "JMW8h-NO30qD",
        "colab": {
          "base_uri": "https://localhost:8080/"
        },
        "outputId": "eeb2528a-712a-49ba-f87b-48dba3ccf3cf"
      },
      "source": [
        "i = 0\n",
        "while i < 6:\n",
        "  i += 1\n",
        "  if i == 3:\n",
        "    print('imprimindo meu i=3')\n",
        "    continue\n",
        "  print(i)"
      ],
      "execution_count": null,
      "outputs": [
        {
          "output_type": "stream",
          "name": "stdout",
          "text": [
            "1\n",
            "2\n",
            "imprimindo meu i=3\n",
            "4\n",
            "5\n",
            "6\n"
          ]
        }
      ]
    },
    {
      "cell_type": "markdown",
      "metadata": {
        "id": "kadkftiV4OlR"
      },
      "source": [
        "**A declaração else**\n",
        "\n",
        "Com a instrução **else**, podemos executar um bloco de código uma vez, quando a condição não for mais verdadeira:"
      ]
    },
    {
      "cell_type": "code",
      "metadata": {
        "id": "DbCfBhxD4QVx",
        "colab": {
          "base_uri": "https://localhost:8080/"
        },
        "outputId": "1de6c7ca-8206-44fb-b7bc-009d12420200"
      },
      "source": [
        "i = 1\n",
        "while i < 6:\n",
        "  print(i)\n",
        "  i += 1\n",
        "else:\n",
        "  print(\"i deixou de ser menor do que 6\")"
      ],
      "execution_count": null,
      "outputs": [
        {
          "output_type": "stream",
          "name": "stdout",
          "text": [
            "1\n",
            "2\n",
            "3\n",
            "4\n",
            "5\n",
            "i deixou de ser menor do que 6\n"
          ]
        }
      ]
    },
    {
      "cell_type": "markdown",
      "metadata": {
        "id": "nLEjDHtt4fvi"
      },
      "source": [
        "#### **For Loop**\n",
        "\n",
        "Um loop for é usado para iterar sobre uma sequência (que é uma lista, uma tupla, um dicionário, um conjunto ou uma string).\n",
        "\n",
        "Isso é menos parecido com a palavra-chave for em outras linguagens de programação e funciona mais como um método iterador encontrado em outras linguagens de programação orientadas a objetos.\n",
        "\n",
        "Com o loop for, podemos executar um conjunto de instruções, uma vez para cada item em uma lista, tupla, conjunto etc."
      ]
    },
    {
      "cell_type": "code",
      "metadata": {
        "id": "13APiHiq4o3f",
        "colab": {
          "base_uri": "https://localhost:8080/"
        },
        "outputId": "3b6b0abb-32e8-4b60-9efd-9a2d87e07db3"
      },
      "source": [
        "objetos = ['cadeira', 'cama', 'mesa']\n",
        "\n",
        "for x in objetos:\n",
        "  print(x)"
      ],
      "execution_count": null,
      "outputs": [
        {
          "output_type": "stream",
          "name": "stdout",
          "text": [
            "cadeira\n",
            "cama\n",
            "mesa\n"
          ]
        }
      ]
    },
    {
      "cell_type": "code",
      "metadata": {
        "id": "lJJ62OT55jVV",
        "colab": {
          "base_uri": "https://localhost:8080/"
        },
        "outputId": "b09b668c-2606-41ed-a803-14799514cdc0"
      },
      "source": [
        "# Loop por uma string:\n",
        "\n",
        "for letra in \"cadeira\":\n",
        "  print(letra)"
      ],
      "execution_count": null,
      "outputs": [
        {
          "output_type": "stream",
          "name": "stdout",
          "text": [
            "c\n",
            "a\n",
            "d\n",
            "e\n",
            "i\n",
            "r\n",
            "a\n"
          ]
        }
      ]
    },
    {
      "cell_type": "code",
      "metadata": {
        "id": "5A9Dn_g950V6",
        "colab": {
          "base_uri": "https://localhost:8080/"
        },
        "outputId": "28b53d7f-5271-4e75-9ae0-e8192ef84971"
      },
      "source": [
        "# break statement\n",
        "\n",
        "for x in objetos:\n",
        "  print(x)\n",
        "  if x == 'cama':\n",
        "    break"
      ],
      "execution_count": null,
      "outputs": [
        {
          "output_type": "stream",
          "name": "stdout",
          "text": [
            "cadeira\n",
            "cama\n"
          ]
        }
      ]
    },
    {
      "cell_type": "code",
      "metadata": {
        "id": "QYyeyPhu6MND",
        "colab": {
          "base_uri": "https://localhost:8080/"
        },
        "outputId": "843a531f-97f3-4447-9a1c-743b239b7164"
      },
      "source": [
        "# continue statement\n",
        "\n",
        "for x in objetos:\n",
        "  if x == 'cama':\n",
        "    continue\n",
        "  print(x)"
      ],
      "execution_count": null,
      "outputs": [
        {
          "output_type": "stream",
          "name": "stdout",
          "text": [
            "cadeira\n",
            "mesa\n"
          ]
        }
      ]
    },
    {
      "cell_type": "markdown",
      "metadata": {
        "id": "3r7Ud9GO6YmM"
      },
      "source": [
        "**For com a função range()**\n",
        "\n",
        "Para percorrer um conjunto de código um determinado número de vezes, podemos usar a função range().\n",
        "\n",
        "A função range() retorna uma sequência de números, começando em 0 por padrão, e incrementos em 1 (por padrão), e termina em um número especificado."
      ]
    },
    {
      "cell_type": "code",
      "metadata": {
        "id": "5KbS5MOk6kvD",
        "colab": {
          "base_uri": "https://localhost:8080/"
        },
        "outputId": "170c3fd3-e20b-4269-9fc9-ed6dd033a048"
      },
      "source": [
        "# Usando o range()\n",
        "\n",
        "range(5)"
      ],
      "execution_count": null,
      "outputs": [
        {
          "output_type": "execute_result",
          "data": {
            "text/plain": [
              "range(0, 5)"
            ]
          },
          "metadata": {},
          "execution_count": 144
        }
      ]
    },
    {
      "cell_type": "code",
      "metadata": {
        "id": "YveyUOrNLiUt",
        "colab": {
          "base_uri": "https://localhost:8080/"
        },
        "outputId": "587642b5-f789-47c1-e532-32f90fad37ec"
      },
      "source": [
        "# Atribuindo o range em uma variável\n",
        "\n",
        "numeros = range(5)\n",
        "\n",
        "print(numeros)"
      ],
      "execution_count": null,
      "outputs": [
        {
          "output_type": "stream",
          "name": "stdout",
          "text": [
            "range(0, 5)\n"
          ]
        }
      ]
    },
    {
      "cell_type": "code",
      "metadata": {
        "id": "AYjGmXOy6gze",
        "colab": {
          "base_uri": "https://localhost:8080/"
        },
        "outputId": "2fd2d29d-84d7-4410-ae28-a033a5ec315a"
      },
      "source": [
        "# Loop pelo range\n",
        "\n",
        "for x in range(6):\n",
        "  print(x)"
      ],
      "execution_count": null,
      "outputs": [
        {
          "output_type": "stream",
          "name": "stdout",
          "text": [
            "0\n",
            "1\n",
            "2\n",
            "3\n",
            "4\n",
            "5\n"
          ]
        }
      ]
    },
    {
      "cell_type": "code",
      "metadata": {
        "id": "qRCVoGUl64pS",
        "colab": {
          "base_uri": "https://localhost:8080/"
        },
        "outputId": "2c8c8286-d7aa-474b-d104-b81b3e733fc3"
      },
      "source": [
        "# range com inicio,fim\n",
        "\n",
        "for x in range(2,16):\n",
        "  print(x)"
      ],
      "execution_count": null,
      "outputs": [
        {
          "output_type": "stream",
          "name": "stdout",
          "text": [
            "2\n",
            "3\n",
            "4\n",
            "5\n",
            "6\n",
            "7\n",
            "8\n",
            "9\n",
            "10\n",
            "11\n",
            "12\n",
            "13\n",
            "14\n",
            "15\n"
          ]
        }
      ]
    },
    {
      "cell_type": "code",
      "metadata": {
        "id": "enl3M3zLL6Mg",
        "colab": {
          "base_uri": "https://localhost:8080/"
        },
        "outputId": "00a74125-67ac-4e63-f288-ce2df13f4298"
      },
      "source": [
        "# range com inicio,fim,passo\n",
        "\n",
        "for x in range(2,16,3):\n",
        "  print(x)"
      ],
      "execution_count": null,
      "outputs": [
        {
          "output_type": "stream",
          "name": "stdout",
          "text": [
            "2\n",
            "5\n",
            "8\n",
            "11\n",
            "14\n"
          ]
        }
      ]
    },
    {
      "cell_type": "code",
      "metadata": {
        "id": "EN4-mITm7DbT",
        "colab": {
          "base_uri": "https://localhost:8080/"
        },
        "outputId": "af255eb8-8c2f-4779-8e4e-4a1036c50257"
      },
      "source": [
        "# else para indicar final do loop\n",
        "\n",
        "for x in range(6):\n",
        "  print(x)\n",
        "else:\n",
        "  print(\"finalmente terminou!\")"
      ],
      "execution_count": null,
      "outputs": [
        {
          "output_type": "stream",
          "name": "stdout",
          "text": [
            "0\n",
            "1\n",
            "2\n",
            "3\n",
            "4\n",
            "5\n",
            "finalmente terminou!\n"
          ]
        }
      ]
    },
    {
      "cell_type": "markdown",
      "metadata": {
        "id": "luF9-vfq7WHW"
      },
      "source": [
        "**Nota:** O bloco **else** NÃO será executado se o loop for interrompido por uma instrução break."
      ]
    },
    {
      "cell_type": "code",
      "metadata": {
        "id": "j6LnsuuJ7QGL",
        "colab": {
          "base_uri": "https://localhost:8080/"
        },
        "outputId": "faa13e64-3bab-487a-9f3f-c42da5b9eaa2"
      },
      "source": [
        "for x in range(6):\n",
        "  if x == 3: break\n",
        "  print(x)\n",
        "else:\n",
        "  print(\"finalmente terminou!\")"
      ],
      "execution_count": null,
      "outputs": [
        {
          "output_type": "stream",
          "name": "stdout",
          "text": [
            "0\n",
            "1\n",
            "2\n"
          ]
        }
      ]
    },
    {
      "cell_type": "markdown",
      "metadata": {
        "id": "81uL4xI_7ehm"
      },
      "source": [
        "**Loops aninhados**\n",
        "\n",
        "O \"loop interno\" será executado uma vez para cada iteração do \"loop externo\":"
      ]
    },
    {
      "cell_type": "code",
      "metadata": {
        "id": "maIb15d-7kw-",
        "colab": {
          "base_uri": "https://localhost:8080/"
        },
        "outputId": "d1d89b1d-4bf9-4254-e8dd-61d3b956fd17"
      },
      "source": [
        "adj = [\"red\", \"big\", \"tasty\"]\n",
        "frutas = [\"apple\", \"banana\", \"cherry\"]\n",
        "\n",
        "for x in adj:\n",
        "  print('loop externo')\n",
        "  for y in frutas:\n",
        "    print('loop interno')\n",
        "    print(x, y)"
      ],
      "execution_count": null,
      "outputs": [
        {
          "output_type": "stream",
          "name": "stdout",
          "text": [
            "loop externo\n",
            "loop interno\n",
            "red apple\n",
            "loop interno\n",
            "red banana\n",
            "loop interno\n",
            "red cherry\n",
            "loop externo\n",
            "loop interno\n",
            "big apple\n",
            "loop interno\n",
            "big banana\n",
            "loop interno\n",
            "big cherry\n",
            "loop externo\n",
            "loop interno\n",
            "tasty apple\n",
            "loop interno\n",
            "tasty banana\n",
            "loop interno\n",
            "tasty cherry\n"
          ]
        }
      ]
    },
    {
      "cell_type": "markdown",
      "metadata": {
        "id": "qjmAEuc58Asf"
      },
      "source": [
        "### **Exemplo:**\n",
        "\n",
        "Desenvolva um programa que leia o primeiro termo e a razão de PA e mostre os 10 primeiros termos dessa progressão.\n",
        "\n",
        "A equação da PA é: \n",
        "\n",
        "$a_n = a_1 + (n-1) \\cdot r$"
      ]
    },
    {
      "cell_type": "code",
      "metadata": {
        "id": "DxE4UQa89DBO",
        "colab": {
          "base_uri": "https://localhost:8080/"
        },
        "outputId": "f9cd7b7f-6163-4321-acde-aab9aafc8000"
      },
      "source": [
        "a1 = int(input('Digite a primeiro termo da PA: '))\n",
        "r = int(input('Digite a razão da PA: '))\n",
        "\n",
        "for n in range(1,11):\n",
        "  print(a1 + (n-1)*r)"
      ],
      "execution_count": null,
      "outputs": [
        {
          "output_type": "stream",
          "name": "stdout",
          "text": [
            "Digite a primeiro termo da PA: 5\n",
            "Digite a razão da PA: 3\n",
            "5\n",
            "8\n",
            "11\n",
            "14\n",
            "17\n",
            "20\n",
            "23\n",
            "26\n",
            "29\n",
            "32\n"
          ]
        }
      ]
    },
    {
      "cell_type": "markdown",
      "metadata": {
        "id": "vJ1s7hikCwSE"
      },
      "source": [
        "## **Desafio 03:**\n",
        "\n",
        "Faça um programa que leia o ano de nascimento de um atleta e mostre sua idade e categoria, de acordo com a idade:\n",
        "- Até 9 anos: MIRIM\n",
        "- Até 14 anos: INFANTIL\n",
        "- Até 19 anos: JÚNIOR\n",
        "- Até 25 anos: SÊNIOR\n",
        "- Acima de 25 anos: MASTER\n",
        "\n",
        "\n",
        "*Exemplo de mensagem para o programa:\n",
        "\n",
        "O atleta tem X anos.\n",
        "\n",
        "Classificação: Y"
      ]
    },
    {
      "cell_type": "code",
      "metadata": {
        "id": "uLxW8qV78EIL",
        "colab": {
          "base_uri": "https://localhost:8080/"
        },
        "outputId": "74b6a63e-0c63-4fbd-abbf-4341e21d9c0f"
      },
      "source": [
        "print('*' * 50)\n",
        "print('Classificações para o atleta:')\n",
        "print('*' * 50)\n",
        "print('Até 9 anos: MIRIM')\n",
        "print('Até 14 anos: INFANTIL')\n",
        "print('Até 19 anos: JÚNIOR')\n",
        "print('Até 25 anos: SÊNIOR')\n",
        "print('Acima de 25 anos: MASTER')\n",
        "print('*' * 50)\n",
        "\n",
        "ano = int(input('Digite o ano de nascimento do atleta: '))\n",
        "\n",
        "idade = 2021 - ano\n",
        "\n",
        "if idade <= 9:\n",
        "  categoria = 'Mirim'\n",
        "elif idade > 9 and idade <= 14:\n",
        "  categoria = 'Infantil'\n",
        "elif idade > 14 and idade <= 19:\n",
        "  categoria = 'Júnior'\n",
        "elif idade > 19 and idade <= 25:\n",
        "  categoria = 'Sênior'\n",
        "else:\n",
        "  categoria = 'Master'\n",
        "\n",
        "print(f'O atleta tem {idade} anos de idade.')\n",
        "print(f'Classificação: {categoria}')"
      ],
      "execution_count": null,
      "outputs": [
        {
          "output_type": "stream",
          "name": "stdout",
          "text": [
            "**************************************************\n",
            "Classificações para o atleta:\n",
            "**************************************************\n",
            "Até 9 anos: MIRIM\n",
            "Até 14 anos: INFANTIL\n",
            "Até 19 anos: JÚNIOR\n",
            "Até 25 anos: SÊNIOR\n",
            "Acima de 25 anos: MASTER\n",
            "**************************************************\n",
            "Digite o ano de nascimento do atleta: 2015\n",
            "O atleta tem 6 anos de idade.\n",
            "Classificação: Mirim\n"
          ]
        }
      ]
    },
    {
      "cell_type": "markdown",
      "metadata": {
        "id": "lzayVRfoms6d"
      },
      "source": [
        "## **Coleções em Python**\n",
        "\n",
        "Python inclui vários tipos de containers integrados: listas (list), dicionários (dict), conjuntos unicos (sets) e tuplas (tuples)."
      ]
    },
    {
      "cell_type": "markdown",
      "metadata": {
        "id": "Xk0_8DB7qtb4"
      },
      "source": [
        "#### **Listas**\n",
        "\n",
        "- As listas são usadas para armazenar vários itens em uma única variável.\n",
        "\n",
        "- As listas são criadas usando colchetes [].\n",
        "\n",
        "- Os itens da lista são ordenados, alteráveis e permitem valores duplicados.\n",
        "\n",
        "- Os itens da lista são indexados, o primeiro item tem o índice [0], o segundo item tem o índice [1] etc."
      ]
    },
    {
      "cell_type": "code",
      "metadata": {
        "id": "Zawbi3gEmu1w",
        "colab": {
          "base_uri": "https://localhost:8080/"
        },
        "outputId": "9994b2e9-9f14-4854-fa44-b4eead67b4bb"
      },
      "source": [
        "# Criando uma lista\n",
        "\n",
        "lista1 = ['maça', 'banana', 'limao']\n",
        "\n",
        "print(lista1)"
      ],
      "execution_count": null,
      "outputs": [
        {
          "output_type": "stream",
          "name": "stdout",
          "text": [
            "['maça', 'banana', 'limao']\n"
          ]
        }
      ]
    },
    {
      "cell_type": "code",
      "metadata": {
        "id": "YfTgK3U1sGIO",
        "colab": {
          "base_uri": "https://localhost:8080/"
        },
        "outputId": "2bd2e376-ccf1-4468-dd4b-020f352d301f"
      },
      "source": [
        "print(type(lista1))"
      ],
      "execution_count": null,
      "outputs": [
        {
          "output_type": "stream",
          "name": "stdout",
          "text": [
            "<class 'list'>\n"
          ]
        }
      ]
    },
    {
      "cell_type": "code",
      "metadata": {
        "id": "0l5TCrBUsPCz",
        "colab": {
          "base_uri": "https://localhost:8080/"
        },
        "outputId": "d8951791-6cff-49f5-91bf-9be895be28e4"
      },
      "source": [
        "# valor duplicado\n",
        "\n",
        "lista2 = ['maça', 'banana', 'limao', 'maça']\n",
        "print(lista2)"
      ],
      "execution_count": null,
      "outputs": [
        {
          "output_type": "stream",
          "name": "stdout",
          "text": [
            "['maça', 'banana', 'limao', 'maça']\n"
          ]
        }
      ]
    },
    {
      "cell_type": "code",
      "metadata": {
        "id": "2cAyCG05s1Bg",
        "colab": {
          "base_uri": "https://localhost:8080/"
        },
        "outputId": "6a02c0cc-6bc2-470e-941e-2e2fcb84b99a"
      },
      "source": [
        "# Tamanho da lista\n",
        "\n",
        "print(len(lista2))"
      ],
      "execution_count": null,
      "outputs": [
        {
          "output_type": "stream",
          "name": "stdout",
          "text": [
            "4\n"
          ]
        }
      ]
    },
    {
      "cell_type": "code",
      "metadata": {
        "id": "7JcbTKwVs-hw",
        "colab": {
          "base_uri": "https://localhost:8080/"
        },
        "outputId": "67286cfb-efe6-476b-cb2e-11437a7aca91"
      },
      "source": [
        "# ista dentro de uma lista\n",
        "\n",
        "lista3 = ['maça', 'banana', ['limao', 'uva']]\n",
        "print(lista3)"
      ],
      "execution_count": null,
      "outputs": [
        {
          "output_type": "stream",
          "name": "stdout",
          "text": [
            "['maça', 'banana', ['limao', 'uva']]\n"
          ]
        }
      ]
    },
    {
      "cell_type": "code",
      "metadata": {
        "id": "mYzARYEFtMB0",
        "colab": {
          "base_uri": "https://localhost:8080/"
        },
        "outputId": "50f63af0-9836-4b4a-8ca7-7684b9b078c1"
      },
      "source": [
        "len(lista3[2][0])"
      ],
      "execution_count": null,
      "outputs": [
        {
          "output_type": "execute_result",
          "data": {
            "text/plain": [
              "5"
            ]
          },
          "metadata": {},
          "execution_count": 168
        }
      ]
    },
    {
      "cell_type": "code",
      "metadata": {
        "id": "3114F_VStNpm",
        "colab": {
          "base_uri": "https://localhost:8080/"
        },
        "outputId": "a3452925-77d2-47b7-eb03-7a980d5e890c"
      },
      "source": [
        "# Os itens da lista são indexados e você pode acessá-los referindo-se ao número do índice\n",
        "\n",
        "print(lista3[2])"
      ],
      "execution_count": null,
      "outputs": [
        {
          "output_type": "stream",
          "name": "stdout",
          "text": [
            "['limao', 'uva']\n"
          ]
        }
      ]
    },
    {
      "cell_type": "code",
      "metadata": {
        "id": "HvUQfuxevAja",
        "colab": {
          "base_uri": "https://localhost:8080/"
        },
        "outputId": "3b05503a-9bcc-4b0a-8342-599d99f802e9"
      },
      "source": [
        "# Os índices negativos contam a partir do final da lista\n",
        "\n",
        "print(lista3[-2])"
      ],
      "execution_count": null,
      "outputs": [
        {
          "output_type": "stream",
          "name": "stdout",
          "text": [
            "banana\n"
          ]
        }
      ]
    },
    {
      "cell_type": "markdown",
      "metadata": {
        "id": "o8eEyLLqvWXE"
      },
      "source": [
        "Você pode especificar um intervalo de índices, especificando onde começar e onde terminar o intervalo.\n",
        "\n",
        "Ao especificar um intervalo, o valor de retorno será uma nova lista com os itens especificados.\n",
        "\n",
        "Fatiamento de lista"
      ]
    },
    {
      "cell_type": "code",
      "metadata": {
        "id": "_vPJmCLRvYKF",
        "colab": {
          "base_uri": "https://localhost:8080/"
        },
        "outputId": "0005cd01-b84d-402e-93fc-75bb9256ec0d"
      },
      "source": [
        "thislist = [\"maça\", \"banana\", \"cereja\", \"laranja\", \"kiwi\", \"melao\", \"manga\"]\n",
        "\n",
        "print(thislist[1:6])"
      ],
      "execution_count": null,
      "outputs": [
        {
          "output_type": "stream",
          "name": "stdout",
          "text": [
            "['banana', 'cereja', 'laranja', 'kiwi', 'melao']\n"
          ]
        }
      ]
    },
    {
      "cell_type": "markdown",
      "metadata": {
        "id": "9-zGA4SbwSFZ"
      },
      "source": [
        "Uma lista pode conter diferentes tipos de dados"
      ]
    },
    {
      "cell_type": "code",
      "metadata": {
        "id": "Auqbb-zgvbWo",
        "colab": {
          "base_uri": "https://localhost:8080/"
        },
        "outputId": "623ad5e3-5a00-4128-b91e-9a41dfba3653"
      },
      "source": [
        "lista4 = [\"abc\", 34, True, 40.5, \"male\"]\n",
        "print(lista4)\n",
        "print(type(lista4))"
      ],
      "execution_count": null,
      "outputs": [
        {
          "output_type": "stream",
          "name": "stdout",
          "text": [
            "['abc', 34, True, 40.5, 'male']\n",
            "<class 'list'>\n"
          ]
        }
      ]
    },
    {
      "cell_type": "markdown",
      "metadata": {
        "id": "jBYRnmLQxbZ2"
      },
      "source": [
        "Para inserir um novo item da lista, sem substituir nenhum dos valores existentes, podemos usar o método insert().\n",
        "\n",
        "O método insert() insere um item no índice especificado."
      ]
    },
    {
      "cell_type": "code",
      "metadata": {
        "id": "A93-wqgfwbwv",
        "colab": {
          "base_uri": "https://localhost:8080/"
        },
        "outputId": "25cfd684-b6f2-4f33-aa74-5dc1b70804ac"
      },
      "source": [
        "frutas = [\"maça\", \"banana\", \"laranja\"]\n",
        "print(f'lista original: {frutas}')"
      ],
      "execution_count": null,
      "outputs": [
        {
          "output_type": "stream",
          "name": "stdout",
          "text": [
            "lista original: ['maça', 'banana', 'laranja']\n"
          ]
        }
      ]
    },
    {
      "cell_type": "code",
      "metadata": {
        "id": "22LusrOhQrcp",
        "colab": {
          "base_uri": "https://localhost:8080/"
        },
        "outputId": "149dd975-ff8a-491f-fdb8-4395b88e02fa"
      },
      "source": [
        "frutas.insert(2, \"melancia\")\n",
        "\n",
        "print(f'lista alterada: {frutas}')"
      ],
      "execution_count": null,
      "outputs": [
        {
          "output_type": "stream",
          "name": "stdout",
          "text": [
            "lista alterada: ['maça', 'banana', 'melancia', 'laranja']\n"
          ]
        }
      ]
    },
    {
      "cell_type": "markdown",
      "metadata": {
        "id": "o_v01ZnPyHrO"
      },
      "source": [
        "Para adicionar um item ao final da lista, use o método append():"
      ]
    },
    {
      "cell_type": "code",
      "metadata": {
        "id": "kQigrUkext3E",
        "colab": {
          "base_uri": "https://localhost:8080/"
        },
        "outputId": "9f5ed47b-701c-493b-cfdb-c130170173f0"
      },
      "source": [
        "frutas = [\"maça\", \"banana\", \"laranja\"]\n",
        "print(f'lista original: {frutas}')"
      ],
      "execution_count": null,
      "outputs": [
        {
          "output_type": "stream",
          "name": "stdout",
          "text": [
            "lista original: ['maça', 'banana', 'laranja']\n"
          ]
        }
      ]
    },
    {
      "cell_type": "code",
      "metadata": {
        "id": "Ipin853gQwVk",
        "colab": {
          "base_uri": "https://localhost:8080/"
        },
        "outputId": "0f45d71b-c4c2-4b08-e0cf-816aedaa36c9"
      },
      "source": [
        "frutas.append(\"melao\")\n",
        "print(f'lista alterada com append(): {frutas}')"
      ],
      "execution_count": null,
      "outputs": [
        {
          "output_type": "stream",
          "name": "stdout",
          "text": [
            "lista alterada com append(): ['maça', 'banana', 'melancia', 'laranja', 'melao']\n"
          ]
        }
      ]
    },
    {
      "cell_type": "markdown",
      "metadata": {
        "id": "y62mE6E9yiV8"
      },
      "source": [
        "Para anexar elementos de outra lista à lista atual, use o método extend()."
      ]
    },
    {
      "cell_type": "code",
      "metadata": {
        "id": "ImFbccKuykrC",
        "colab": {
          "base_uri": "https://localhost:8080/"
        },
        "outputId": "b0359c69-d68a-40bc-b9f7-aea111fbbb71"
      },
      "source": [
        "frutas1 = ['maça', 'banana', 'laranja']\n",
        "frutas2 = ['manga', 'melancia', 'melao']\n",
        "\n",
        "frutas1.extend(frutas2)\n",
        "print(frutas1)"
      ],
      "execution_count": null,
      "outputs": [
        {
          "output_type": "stream",
          "name": "stdout",
          "text": [
            "['maça', 'banana', 'laranja', 'manga', 'melancia', 'melao']\n"
          ]
        }
      ]
    },
    {
      "cell_type": "markdown",
      "metadata": {
        "id": "NP0dTv4WzT1U"
      },
      "source": [
        "O método remove() remove o item especificado."
      ]
    },
    {
      "cell_type": "code",
      "metadata": {
        "id": "DoWyfkPWzU7k",
        "colab": {
          "base_uri": "https://localhost:8080/"
        },
        "outputId": "18bfdd53-a89c-4022-c0ce-d050b678d8ad"
      },
      "source": [
        "frutas1.remove('banana')\n",
        "print(frutas1)"
      ],
      "execution_count": null,
      "outputs": [
        {
          "output_type": "stream",
          "name": "stdout",
          "text": [
            "['maça', 'laranja', 'manga', 'melancia', 'melao']\n"
          ]
        }
      ]
    },
    {
      "cell_type": "markdown",
      "metadata": {
        "id": "gh6KtmlnziAD"
      },
      "source": [
        "O método pop() remove o índice especificado.\n",
        "\n",
        "Se você não especificar o índice, o método pop() remove o último item."
      ]
    },
    {
      "cell_type": "code",
      "metadata": {
        "id": "AvzM3jxszmJ0",
        "colab": {
          "base_uri": "https://localhost:8080/"
        },
        "outputId": "5f64291b-23e0-438f-f5e6-bad48f8e9590"
      },
      "source": [
        "# Sem parâmetro remove o último dado\n",
        "\n",
        "frutas1.pop()\n",
        "print(frutas1)"
      ],
      "execution_count": null,
      "outputs": [
        {
          "output_type": "stream",
          "name": "stdout",
          "text": [
            "['maça', 'laranja', 'manga', 'melancia']\n"
          ]
        }
      ]
    },
    {
      "cell_type": "code",
      "metadata": {
        "id": "pMj996dAzqta",
        "colab": {
          "base_uri": "https://localhost:8080/"
        },
        "outputId": "61c26cee-c587-4f12-b24f-d638e089e32e"
      },
      "source": [
        "# Com parâmetro remove o índice especificado\n",
        "\n",
        "frutas1.pop(2)\n",
        "print(frutas1)"
      ],
      "execution_count": null,
      "outputs": [
        {
          "output_type": "stream",
          "name": "stdout",
          "text": [
            "['maça', 'laranja', 'melancia']\n"
          ]
        }
      ]
    },
    {
      "cell_type": "markdown",
      "metadata": {
        "id": "N5RxNfiB0wzZ"
      },
      "source": [
        "**Percorrer uma lista**\n",
        "\n",
        "Você pode percorrer os itens da lista usando um loop for."
      ]
    },
    {
      "cell_type": "code",
      "metadata": {
        "id": "RjYVkxPL03P3",
        "colab": {
          "base_uri": "https://localhost:8080/"
        },
        "outputId": "d7df4e1b-81fc-4144-b1ff-eaa5f6c625b2"
      },
      "source": [
        "frutas = [\"maça\", \"banana\", \"cereja\", \"laranja\", \"kiwi\", \"melao\", \"manga\"]\n",
        "\n",
        "for x in frutas:\n",
        "  print(x)"
      ],
      "execution_count": null,
      "outputs": [
        {
          "output_type": "stream",
          "name": "stdout",
          "text": [
            "maça\n",
            "banana\n",
            "cereja\n",
            "laranja\n",
            "kiwi\n",
            "melao\n",
            "manga\n"
          ]
        }
      ]
    },
    {
      "cell_type": "markdown",
      "metadata": {
        "id": "0zSW_wbP1Vzk"
      },
      "source": [
        "Se você quiser acessar o índice de cada elemento dentro do corpo de um loop, use a função incorporada enumerate():"
      ]
    },
    {
      "cell_type": "code",
      "metadata": {
        "id": "kyOSaHD51VJY",
        "colab": {
          "base_uri": "https://localhost:8080/"
        },
        "outputId": "0a0b7821-4f14-4ac0-ba41-e355a1250a99"
      },
      "source": [
        "animals = ['cat', 'dog', 'monkey']\n",
        "\n",
        "for idx, animal in enumerate(animals):\n",
        "    print(f'{idx} : {animal}')"
      ],
      "execution_count": null,
      "outputs": [
        {
          "output_type": "stream",
          "name": "stdout",
          "text": [
            "0 : cat\n",
            "1 : dog\n",
            "2 : monkey\n"
          ]
        }
      ]
    },
    {
      "cell_type": "markdown",
      "metadata": {
        "id": "jg45Hwoq1uu4"
      },
      "source": [
        "**Looping usando compreensão de lista**\n",
        "\n",
        "Compreensão de lista oferece a sintaxe mais curta para percorrer listas."
      ]
    },
    {
      "cell_type": "markdown",
      "metadata": {
        "id": "1VHkXOvb2VEm"
      },
      "source": [
        "Ao programar, frequentemente queremos transformar um tipo de dado em outro. Como um exemplo simples, considere o seguinte código que calcula números quadrados:"
      ]
    },
    {
      "cell_type": "code",
      "metadata": {
        "id": "BnfhPiTD2Xvt",
        "colab": {
          "base_uri": "https://localhost:8080/"
        },
        "outputId": "c37700c8-c62b-4226-8765-6e92a53bf49c"
      },
      "source": [
        "nums = [0, 1, 2, 3, 4]\n",
        "\n",
        "squares = []\n",
        "\n",
        "for x in nums:\n",
        "    squares.append(x ** 2)\n",
        "\n",
        "print(squares)"
      ],
      "execution_count": null,
      "outputs": [
        {
          "output_type": "stream",
          "name": "stdout",
          "text": [
            "[0, 1, 4, 9, 16]\n"
          ]
        }
      ]
    },
    {
      "cell_type": "markdown",
      "metadata": {
        "id": "XVKrVuc-2ey6"
      },
      "source": [
        "Você pode tornar este código mais simples usando uma **compreensão de lista**:"
      ]
    },
    {
      "cell_type": "code",
      "metadata": {
        "id": "CF32pe1D2hrw",
        "colab": {
          "base_uri": "https://localhost:8080/"
        },
        "outputId": "d19a3b84-3ecb-4b1f-8f12-44729ee4abc1"
      },
      "source": [
        "nums = [0, 1, 2, 3, 4]\n",
        "\n",
        "squares = [x ** 2 for x in nums]\n",
        "\n",
        "print(squares)"
      ],
      "execution_count": null,
      "outputs": [
        {
          "output_type": "stream",
          "name": "stdout",
          "text": [
            "[0, 1, 4, 9, 16]\n"
          ]
        }
      ]
    },
    {
      "cell_type": "markdown",
      "metadata": {
        "id": "c0JBvdjd2pWH"
      },
      "source": [
        "As compreensões de lista também podem conter condições:"
      ]
    },
    {
      "cell_type": "code",
      "metadata": {
        "id": "Ps8DvA_a2rpM",
        "colab": {
          "base_uri": "https://localhost:8080/"
        },
        "outputId": "4174dabb-e1db-4db5-8de7-38a7496aa3ca"
      },
      "source": [
        "nums = [0, 1, 2, 3, 4]\n",
        "\n",
        "even_squares = [x ** 2 for x in nums if x % 2 == 0]\n",
        "\n",
        "print(even_squares)"
      ],
      "execution_count": null,
      "outputs": [
        {
          "output_type": "stream",
          "name": "stdout",
          "text": [
            "[0, 4, 16]\n"
          ]
        }
      ]
    },
    {
      "cell_type": "markdown",
      "metadata": {
        "id": "63yLCrjM20Wc"
      },
      "source": [
        "Exemplo com as frutas..."
      ]
    },
    {
      "cell_type": "code",
      "metadata": {
        "id": "F5Hg7FpK25GQ",
        "colab": {
          "base_uri": "https://localhost:8080/"
        },
        "outputId": "60c96704-9352-4125-fd58-396a62f1cddf"
      },
      "source": [
        "frutas = [\"maça\", \"banana\", \"cereja\", \"laranja\", \"kiwi\", \"melao\", \"manga\"]\n",
        "\n",
        "newlist = [x for x in frutas if x != \"maça\"]\n",
        "\n",
        "print(newlist)"
      ],
      "execution_count": null,
      "outputs": [
        {
          "output_type": "stream",
          "name": "stdout",
          "text": [
            "['banana', 'cereja', 'laranja', 'kiwi', 'melao', 'manga']\n"
          ]
        }
      ]
    },
    {
      "cell_type": "code",
      "metadata": {
        "colab": {
          "base_uri": "https://localhost:8080/"
        },
        "id": "HeNG_CJoMTMc",
        "outputId": "1e88f41d-e3f9-43c3-af11-a13051ce71a6"
      },
      "source": [
        "# Outra forma de criar a lista\n",
        "\n",
        "lista_nova = list()\n",
        "\n",
        "print(lista_nova)"
      ],
      "execution_count": null,
      "outputs": [
        {
          "output_type": "stream",
          "name": "stdout",
          "text": [
            "[]\n"
          ]
        }
      ]
    },
    {
      "cell_type": "markdown",
      "metadata": {
        "id": "q44Px2V5z3wZ"
      },
      "source": [
        "Para mais informações veja a [documentaçao](https://docs.python.org/3/tutorial/datastructures.html#more-on-lists)"
      ]
    },
    {
      "cell_type": "markdown",
      "metadata": {
        "id": "jVNhF65W3Wdc"
      },
      "source": [
        "#### **Tuplas**\n",
        "\n",
        "- Tuplas são usadas para armazenar vários itens em uma única variável.\n",
        "\n",
        "- Uma tupla é uma coleção ordenada e imutável:\n",
        "  - não podemos mudar, adicionar ou remover itens após a tupla ter sido criada.\n",
        "\n",
        "- As tuplas são escritas com parênteses ().\n",
        "\n",
        "- Os itens de tupla são ordenados, imutáveis e permitem valores duplicados.\n",
        "\n",
        "- Os itens de tupla são indexados, o primeiro item tem índice [0], o segundo item tem índice [1], etc."
      ]
    },
    {
      "cell_type": "code",
      "metadata": {
        "colab": {
          "base_uri": "https://localhost:8080/"
        },
        "id": "Hpp1ShK-M2Kt",
        "outputId": "2e6159ad-8203-41c3-bf04-d044f42306a0"
      },
      "source": [
        "tupla0 = tuple()\n",
        "\n",
        "print(tupla0)"
      ],
      "execution_count": null,
      "outputs": [
        {
          "output_type": "stream",
          "name": "stdout",
          "text": [
            "()\n"
          ]
        }
      ]
    },
    {
      "cell_type": "code",
      "metadata": {
        "id": "hKUZBx2X3XtB",
        "colab": {
          "base_uri": "https://localhost:8080/"
        },
        "outputId": "3d640e14-257a-46b0-9e43-1280672577d1"
      },
      "source": [
        "# Criando uma tupla\n",
        "\n",
        "tupla1 = ('maça', 'banana', 'melao')\n",
        "\n",
        "print(tupla1)\n",
        "print(type(tupla1))"
      ],
      "execution_count": null,
      "outputs": [
        {
          "output_type": "stream",
          "name": "stdout",
          "text": [
            "('maça', 'banana', 'melao')\n",
            "<class 'tuple'>\n"
          ]
        }
      ]
    },
    {
      "cell_type": "code",
      "metadata": {
        "id": "4mNdm5hX5CMg",
        "colab": {
          "base_uri": "https://localhost:8080/"
        },
        "outputId": "050e5b2a-e0b0-4ab0-b221-613c0b4059f6"
      },
      "source": [
        "# tamanho da tupla\n",
        "print(len(tupla1))"
      ],
      "execution_count": null,
      "outputs": [
        {
          "output_type": "stream",
          "name": "stdout",
          "text": [
            "3\n"
          ]
        }
      ]
    },
    {
      "cell_type": "markdown",
      "metadata": {
        "id": "KDEtjgVt5_Iu"
      },
      "source": [
        "Você pode acessar itens de tupla referindo-se ao número do índice, entre colchetes"
      ]
    },
    {
      "cell_type": "code",
      "metadata": {
        "id": "vRHwKG_z54Vf",
        "colab": {
          "base_uri": "https://localhost:8080/"
        },
        "outputId": "2d66e402-63f1-430c-e519-e4ae3e30d4c9"
      },
      "source": [
        "frutas = (\"maça\", \"banana\", \"cereja\", \"laranja\", \"kiwi\", \"melao\", \"manga\")\n",
        "\n",
        "print(frutas[0])"
      ],
      "execution_count": null,
      "outputs": [
        {
          "output_type": "stream",
          "name": "stdout",
          "text": [
            "maça\n"
          ]
        }
      ]
    },
    {
      "cell_type": "code",
      "metadata": {
        "id": "xsJBGzOq6Bfo",
        "colab": {
          "base_uri": "https://localhost:8080/"
        },
        "outputId": "1dd32771-8d62-4f10-ccc6-f6089323c021"
      },
      "source": [
        "print(frutas[-1])"
      ],
      "execution_count": null,
      "outputs": [
        {
          "output_type": "stream",
          "name": "stdout",
          "text": [
            "manga\n"
          ]
        }
      ]
    },
    {
      "cell_type": "code",
      "metadata": {
        "id": "oQq235nW6U2m",
        "colab": {
          "base_uri": "https://localhost:8080/"
        },
        "outputId": "1944ff8d-6f37-4ca6-fd3a-e32750bbefc5"
      },
      "source": [
        "print(frutas[2:6])"
      ],
      "execution_count": null,
      "outputs": [
        {
          "output_type": "stream",
          "name": "stdout",
          "text": [
            "('cereja', 'laranja', 'kiwi', 'melao')\n"
          ]
        }
      ]
    },
    {
      "cell_type": "markdown",
      "metadata": {
        "id": "S90mSN4K6uNx"
      },
      "source": [
        "Como as tuplas são imutáveis temos que usar uma soluçao alternativa para altera-lá. :)\n",
        "\n",
        "Converta a tupla em lista, altere a lista e depois converta novamente em tupla."
      ]
    },
    {
      "cell_type": "code",
      "metadata": {
        "id": "ofDiJ-_D6YEb",
        "colab": {
          "base_uri": "https://localhost:8080/"
        },
        "outputId": "d3d37780-34ba-4ae0-827c-ce9858b1e93b"
      },
      "source": [
        "x = (\"apple\", \"banana\", \"cherry\")\n",
        "print(x)\n",
        "\n",
        "y = list(x)\n",
        "print(y)\n",
        "\n",
        "y[1] = \"kiwi\"\n",
        "x = tuple(y)\n",
        "\n",
        "print(x)"
      ],
      "execution_count": null,
      "outputs": [
        {
          "output_type": "stream",
          "name": "stdout",
          "text": [
            "('apple', 'banana', 'cherry')\n",
            "['apple', 'banana', 'cherry']\n",
            "('apple', 'kiwi', 'cherry')\n"
          ]
        }
      ]
    },
    {
      "cell_type": "markdown",
      "metadata": {
        "id": "-hFsICUC7d5r"
      },
      "source": [
        "**Desempacotando uma tupla**\n",
        "\n",
        "Quando criamos uma tupla, normalmente atribuímos valores a ela. Isso é chamado de \"compactação\" de uma tupla."
      ]
    },
    {
      "cell_type": "code",
      "metadata": {
        "id": "H2As_p2-7MHF"
      },
      "source": [
        "# Empacotando a tupla\n",
        "\n",
        "frutas = ('maça', 'banana', 'uva')"
      ],
      "execution_count": null,
      "outputs": []
    },
    {
      "cell_type": "code",
      "metadata": {
        "id": "g-oK6CAg73Lk",
        "colab": {
          "base_uri": "https://localhost:8080/"
        },
        "outputId": "ca189972-6e3c-481f-ffb8-636731432e40"
      },
      "source": [
        "# Desempacotando a tupla\n",
        "\n",
        "(green, yellow, red) = frutas\n",
        "\n",
        "print(green)\n",
        "print(yellow)\n",
        "print(red)"
      ],
      "execution_count": null,
      "outputs": [
        {
          "output_type": "stream",
          "name": "stdout",
          "text": [
            "maça\n",
            "banana\n",
            "uva\n"
          ]
        }
      ]
    },
    {
      "cell_type": "markdown",
      "metadata": {
        "id": "JWzPBXdO8QE5"
      },
      "source": [
        "**Nota:** O número de variáveis deve corresponder ao número de valores na tupla, caso contrário, você deve usar um asterisco para coletar os valores restantes como uma lista."
      ]
    },
    {
      "cell_type": "code",
      "metadata": {
        "id": "uBN85kG48EiU",
        "colab": {
          "base_uri": "https://localhost:8080/"
        },
        "outputId": "51ee651b-1ae9-4e1e-fbd1-391487e53a52"
      },
      "source": [
        "frutas = (\"maça\", \"banana\", \"cereja\", \"morango\", \"framboesa\")\n",
        "\n",
        "(green, yellow, *red) = frutas\n",
        "\n",
        "print(green)\n",
        "print(yellow)\n",
        "print(red)"
      ],
      "execution_count": null,
      "outputs": [
        {
          "output_type": "stream",
          "name": "stdout",
          "text": [
            "maça\n",
            "banana\n",
            "['cereja', 'morango', 'framboesa']\n"
          ]
        }
      ]
    },
    {
      "cell_type": "code",
      "metadata": {
        "id": "BeDTAeCA8tQ6",
        "colab": {
          "base_uri": "https://localhost:8080/"
        },
        "outputId": "b05fbff2-b505-4409-d703-b06f54abac64"
      },
      "source": [
        "# Também podemos fazer o loop sobre a tupla como fizemos na lista\n",
        "\n",
        "frutas = (\"maça\", \"banana\", \"cereja\", \"morango\", \"framboesa\")\n",
        "\n",
        "for fruta in frutas:\n",
        "  print(f'A fruta é: {fruta}')"
      ],
      "execution_count": null,
      "outputs": [
        {
          "output_type": "stream",
          "name": "stdout",
          "text": [
            "A fruta é: maça\n",
            "A fruta é: banana\n",
            "A fruta é: cereja\n",
            "A fruta é: morango\n",
            "A fruta é: framboesa\n"
          ]
        }
      ]
    },
    {
      "cell_type": "markdown",
      "metadata": {
        "id": "fgnRn5lP_v7X"
      },
      "source": [
        "Python tem dois métodos integrados que você pode usar em tuplas:\n",
        "\n",
        "- O método count() retorna o número de vezes que um valor especificado aparece na tupla.\n",
        "\n",
        "- O método index() encontra a primeira ocorrência do valor especificado."
      ]
    },
    {
      "cell_type": "code",
      "metadata": {
        "id": "SyTFm-yc-W3y"
      },
      "source": [
        "frutas = (\"maça\", \"banana\", \"cereja\", \"morango\", \"framboesa\", 'cereja')"
      ],
      "execution_count": null,
      "outputs": []
    },
    {
      "cell_type": "code",
      "metadata": {
        "id": "6EVuUIW7AEBq",
        "colab": {
          "base_uri": "https://localhost:8080/"
        },
        "outputId": "e5521072-53d5-4529-a7de-26f5667b2ffd"
      },
      "source": [
        "print(frutas.count('maça'))"
      ],
      "execution_count": null,
      "outputs": [
        {
          "output_type": "stream",
          "name": "stdout",
          "text": [
            "1\n"
          ]
        }
      ]
    },
    {
      "cell_type": "code",
      "metadata": {
        "id": "ijx8KC4QAQ8K",
        "colab": {
          "base_uri": "https://localhost:8080/"
        },
        "outputId": "d07ef555-b6f5-4f6d-abcb-39846c5ddedd"
      },
      "source": [
        "print(frutas.index('maça'))"
      ],
      "execution_count": null,
      "outputs": [
        {
          "output_type": "stream",
          "name": "stdout",
          "text": [
            "0\n"
          ]
        }
      ]
    },
    {
      "cell_type": "code",
      "metadata": {
        "id": "GPo5uRZzSac7",
        "colab": {
          "base_uri": "https://localhost:8080/"
        },
        "outputId": "57975830-909e-4cf4-9048-0afa0da2fa03"
      },
      "source": [
        "print(frutas.count('cereja'))"
      ],
      "execution_count": null,
      "outputs": [
        {
          "output_type": "stream",
          "name": "stdout",
          "text": [
            "2\n"
          ]
        }
      ]
    },
    {
      "cell_type": "code",
      "metadata": {
        "id": "kuKVguAPSdKP",
        "colab": {
          "base_uri": "https://localhost:8080/"
        },
        "outputId": "f8364bb6-70c0-454a-b48d-cb6c4f0b5532"
      },
      "source": [
        "print(frutas.index('cereja'))"
      ],
      "execution_count": null,
      "outputs": [
        {
          "output_type": "stream",
          "name": "stdout",
          "text": [
            "2\n"
          ]
        }
      ]
    },
    {
      "cell_type": "markdown",
      "metadata": {
        "id": "fG6EIKg-Ajiz"
      },
      "source": [
        "#### **Sets**\n",
        "\n",
        "- Os conjuntos são usados para armazenar vários itens em uma única variável.\n",
        "\n",
        "- Um conjunto é uma coleção não ordenada e indexada:\n",
        "  - portanto, você não pode ter certeza em qual ordem os itens aparecerão.\n",
        "\n",
        "- Os conjuntos são escritos com chaves {}.\n",
        "\n",
        "- Os itens definidos não são ordenados, não podem ser alterados e não permitem valores duplicados.\n",
        "\n",
        "- Depois que um conjunto é criado, você não pode alterar seus itens, mas pode adicionar novos itens."
      ]
    },
    {
      "cell_type": "code",
      "metadata": {
        "id": "JpFenOpjARST"
      },
      "source": [
        "frutas = {'maça', 'banana', 'uva', 'limao'}"
      ],
      "execution_count": null,
      "outputs": []
    },
    {
      "cell_type": "code",
      "metadata": {
        "id": "EWRbrV9oA8v9",
        "colab": {
          "base_uri": "https://localhost:8080/"
        },
        "outputId": "35f261d7-9938-4156-a840-369f20fb2885"
      },
      "source": [
        "print(frutas)"
      ],
      "execution_count": null,
      "outputs": [
        {
          "output_type": "stream",
          "name": "stdout",
          "text": [
            "{'limao', 'maça', 'uva', 'banana'}\n"
          ]
        }
      ]
    },
    {
      "cell_type": "code",
      "metadata": {
        "id": "IiB_7iuuBnYf"
      },
      "source": [
        "# Criando set com valor duplicado \n",
        "frutas = {'maça', 'banana', 'uva', 'limao', 'banana'}"
      ],
      "execution_count": null,
      "outputs": []
    },
    {
      "cell_type": "code",
      "metadata": {
        "id": "r5vP0Dd8BxFY",
        "colab": {
          "base_uri": "https://localhost:8080/"
        },
        "outputId": "865733fd-6294-4094-c5ce-073f08aa6ab7"
      },
      "source": [
        "print(frutas)"
      ],
      "execution_count": null,
      "outputs": [
        {
          "output_type": "stream",
          "name": "stdout",
          "text": [
            "{'limao', 'maça', 'uva', 'banana'}\n"
          ]
        }
      ]
    },
    {
      "cell_type": "markdown",
      "metadata": {
        "id": "pBWDh7SYCGw1"
      },
      "source": [
        "Você não pode acessar itens em um conjunto referindo-se a um índice ou chave.\n",
        "\n",
        "Mas você pode percorrer os itens do conjunto usando um loop **for**, ou perguntar se um valor especificado está presente em um conjunto, usando a palavra-chave **in**."
      ]
    },
    {
      "cell_type": "code",
      "metadata": {
        "id": "bOf0j9mmBxYo",
        "colab": {
          "base_uri": "https://localhost:8080/"
        },
        "outputId": "dd6f2576-93f9-49df-9e89-5d9e2b6e9711"
      },
      "source": [
        "for fruta in frutas:\n",
        "  print(fruta)"
      ],
      "execution_count": null,
      "outputs": [
        {
          "output_type": "stream",
          "name": "stdout",
          "text": [
            "limao\n",
            "maça\n",
            "uva\n",
            "banana\n"
          ]
        }
      ]
    },
    {
      "cell_type": "code",
      "metadata": {
        "id": "g-5bXPJPCN0R",
        "colab": {
          "base_uri": "https://localhost:8080/"
        },
        "outputId": "9081ec19-1450-4dcf-dcc7-ba578e4e7d68"
      },
      "source": [
        "print('melao' in frutas)"
      ],
      "execution_count": null,
      "outputs": [
        {
          "output_type": "stream",
          "name": "stdout",
          "text": [
            "False\n"
          ]
        }
      ]
    },
    {
      "cell_type": "markdown",
      "metadata": {
        "id": "YJEFi8LKSxjO"
      },
      "source": [
        "Para adicionar ou remover dados use as funções **add()** e **remove()**:"
      ]
    },
    {
      "cell_type": "code",
      "metadata": {
        "id": "IdlopuRSCd6b",
        "colab": {
          "base_uri": "https://localhost:8080/"
        },
        "outputId": "69f9d35a-19ee-458e-adde-bb73b223aeb3"
      },
      "source": [
        "# Adicionando novos dados e removendo dados\n",
        "\n",
        "frutas = {'maça', 'banana', 'uva', 'limao', 'banana'}\n",
        "print(frutas)\n",
        "\n",
        "frutas.add('framboesa')\n",
        "print(frutas)"
      ],
      "execution_count": null,
      "outputs": [
        {
          "output_type": "stream",
          "name": "stdout",
          "text": [
            "{'limao', 'maça', 'uva', 'banana'}\n",
            "{'limao', 'uva', 'maça', 'banana', 'framboesa'}\n"
          ]
        }
      ]
    },
    {
      "cell_type": "code",
      "metadata": {
        "id": "uFlDid4OCw3l",
        "colab": {
          "base_uri": "https://localhost:8080/"
        },
        "outputId": "66f45b6d-c30c-411e-b74f-b383304fb05d"
      },
      "source": [
        "frutas.add('melao')\n",
        "print(frutas)"
      ],
      "execution_count": null,
      "outputs": [
        {
          "output_type": "stream",
          "name": "stdout",
          "text": [
            "{'limao', 'uva', 'maça', 'melao', 'banana', 'framboesa'}\n"
          ]
        }
      ]
    },
    {
      "cell_type": "code",
      "metadata": {
        "id": "gKe_TeJtC5lD",
        "colab": {
          "base_uri": "https://localhost:8080/"
        },
        "outputId": "f13ea987-ca25-409b-d081-916f6cede521"
      },
      "source": [
        "frutas.add('melancia')\n",
        "print(frutas)"
      ],
      "execution_count": null,
      "outputs": [
        {
          "output_type": "stream",
          "name": "stdout",
          "text": [
            "{'limao', 'uva', 'melancia', 'maça', 'melao', 'banana', 'framboesa'}\n"
          ]
        }
      ]
    },
    {
      "cell_type": "code",
      "metadata": {
        "id": "OlKkvOcpDxBu",
        "colab": {
          "base_uri": "https://localhost:8080/"
        },
        "outputId": "8456882f-4d0e-4449-b1a4-d8a11371bfa2"
      },
      "source": [
        "frutas.remove('melancia')\n",
        "print(frutas)"
      ],
      "execution_count": null,
      "outputs": [
        {
          "output_type": "stream",
          "name": "stdout",
          "text": [
            "{'limao', 'uva', 'maça', 'melao', 'banana', 'framboesa'}\n"
          ]
        }
      ]
    },
    {
      "cell_type": "markdown",
      "metadata": {
        "id": "BOjfr90-DZvn"
      },
      "source": [
        "Python tem um conjunto de métodos integrados que você pode usar nos sets. Veja a documentação para mais informações."
      ]
    },
    {
      "cell_type": "markdown",
      "metadata": {
        "id": "EH98rBtDD4yl"
      },
      "source": [
        "#### **Dicionários**\n",
        "\n",
        "- Os dicionários são usados para armazenar valores de dados em pares chave: valor.\n",
        "\n",
        "- Um dicionário é uma coleção ordenada, modificável e não permite duplicatas.\n",
        "\n",
        "- Os dicionários são escritos com chaves e têm chaves e valores: {chave:valor}\n",
        "\n",
        "- Os dicionários podem ser alterados, o que significa que podemos alterar, adicionar ou remover itens após a criação do dicionário."
      ]
    },
    {
      "cell_type": "code",
      "metadata": {
        "id": "-OjyXV0iC8r8"
      },
      "source": [
        "dict = {'marca':'Ford',\n",
        "        'modelo':'Mustang',\n",
        "        'ano':'1964'}"
      ],
      "execution_count": null,
      "outputs": []
    },
    {
      "cell_type": "code",
      "metadata": {
        "id": "tnEfc4ziYAoE",
        "colab": {
          "base_uri": "https://localhost:8080/"
        },
        "outputId": "d07f7b54-af4c-4fdf-d7c3-477eeee95ea3"
      },
      "source": [
        "print(dict)"
      ],
      "execution_count": null,
      "outputs": [
        {
          "output_type": "stream",
          "name": "stdout",
          "text": [
            "{'marca': 'Ford', 'modelo': 'Mustang', 'ano': '1964'}\n"
          ]
        }
      ]
    },
    {
      "cell_type": "code",
      "metadata": {
        "id": "yGxGNzaTYSQr"
      },
      "source": [
        "#Criando dicionário com dado duplicado\n",
        "\n",
        "dict2 = {'marca':'Ford',\n",
        "        'modelo':'Mustang',\n",
        "        'ano':'1964',\n",
        "        'ano':'1965'}"
      ],
      "execution_count": null,
      "outputs": []
    },
    {
      "cell_type": "code",
      "metadata": {
        "id": "pf_s9kVUYn1G",
        "colab": {
          "base_uri": "https://localhost:8080/"
        },
        "outputId": "84459b96-6908-424c-e52a-be31ba45ca66"
      },
      "source": [
        "print(dict2)"
      ],
      "execution_count": null,
      "outputs": [
        {
          "output_type": "stream",
          "name": "stdout",
          "text": [
            "{'marca': 'Ford', 'modelo': 'Mustang', 'ano': '1965'}\n"
          ]
        }
      ]
    },
    {
      "cell_type": "code",
      "metadata": {
        "id": "z3m3ULwNYp0e",
        "colab": {
          "base_uri": "https://localhost:8080/"
        },
        "outputId": "8b4c55ea-510d-4ec6-e627-5a7839026370"
      },
      "source": [
        "#Tamanho do dicionário\n",
        "\n",
        "print(len(dict))"
      ],
      "execution_count": null,
      "outputs": [
        {
          "output_type": "stream",
          "name": "stdout",
          "text": [
            "3\n"
          ]
        }
      ]
    },
    {
      "cell_type": "markdown",
      "metadata": {
        "id": "2XUgyt8GZF4f"
      },
      "source": [
        "Os valores nos itens do dicionário podem ser de qualquer tipo de dados"
      ]
    },
    {
      "cell_type": "code",
      "metadata": {
        "id": "d1GTczVfY4hx"
      },
      "source": [
        "dict3 = {\n",
        "    'marca':'Ford',\n",
        "    'modelo':'Mustang',\n",
        "    'eletrico':False,\n",
        "    'ano':1964,\n",
        "    'cores':['vermelho', 'branco', 'azul']\n",
        "}"
      ],
      "execution_count": null,
      "outputs": []
    },
    {
      "cell_type": "code",
      "metadata": {
        "id": "NSqgK8vMZfxl",
        "colab": {
          "base_uri": "https://localhost:8080/"
        },
        "outputId": "625e7f6a-5ce5-4cf6-e81e-96f097e53460"
      },
      "source": [
        "print(dict3)"
      ],
      "execution_count": null,
      "outputs": [
        {
          "output_type": "stream",
          "name": "stdout",
          "text": [
            "{'marca': 'Ford', 'modelo': 'Mustang', 'eletrico': False, 'ano': 1964, 'cores': ['vermelho', 'branco', 'azul']}\n"
          ]
        }
      ]
    },
    {
      "cell_type": "code",
      "metadata": {
        "id": "Lw5iMDQ6Zgpq",
        "colab": {
          "base_uri": "https://localhost:8080/"
        },
        "outputId": "284829bf-a49d-4590-c214-27ff5fa91b1a"
      },
      "source": [
        "print(type(dict3))"
      ],
      "execution_count": null,
      "outputs": [
        {
          "output_type": "stream",
          "name": "stdout",
          "text": [
            "<class 'dict'>\n"
          ]
        }
      ]
    },
    {
      "cell_type": "markdown",
      "metadata": {
        "id": "RfBrH2HSckGD"
      },
      "source": [
        "Acessando elementos pela **chave** ou método **get()**"
      ]
    },
    {
      "cell_type": "code",
      "metadata": {
        "id": "Sb3Tejr-YGMj",
        "colab": {
          "base_uri": "https://localhost:8080/"
        },
        "outputId": "d94830c6-001c-4681-dc0d-7774574ab499"
      },
      "source": [
        "print(dict3['modelo'])"
      ],
      "execution_count": null,
      "outputs": [
        {
          "output_type": "stream",
          "name": "stdout",
          "text": [
            "Mustang\n"
          ]
        }
      ]
    },
    {
      "cell_type": "code",
      "metadata": {
        "id": "gT03rzOgZiZC",
        "colab": {
          "base_uri": "https://localhost:8080/"
        },
        "outputId": "231064f9-3cf5-4db4-db95-ba99b23b7542"
      },
      "source": [
        "print(dict3['ano'])"
      ],
      "execution_count": null,
      "outputs": [
        {
          "output_type": "stream",
          "name": "stdout",
          "text": [
            "1964\n"
          ]
        }
      ]
    },
    {
      "cell_type": "code",
      "metadata": {
        "id": "8Ce50eFMccA7",
        "colab": {
          "base_uri": "https://localhost:8080/"
        },
        "outputId": "a3b26494-927f-4081-f900-8dad045e2676"
      },
      "source": [
        "print(dict3.get('eletrico'))"
      ],
      "execution_count": null,
      "outputs": [
        {
          "output_type": "stream",
          "name": "stdout",
          "text": [
            "False\n"
          ]
        }
      ]
    },
    {
      "cell_type": "code",
      "metadata": {
        "id": "sfZI8HcNToBL",
        "colab": {
          "base_uri": "https://localhost:8080/"
        },
        "outputId": "08a8a77e-aa5e-4836-97f5-78df4e235485"
      },
      "source": [
        "# A função get tem um paraâmetro caso a chave não exista\n",
        "\n",
        "print(dict3.get('eletricoo', 'não há essa informação no dicionário'))"
      ],
      "execution_count": null,
      "outputs": [
        {
          "output_type": "stream",
          "name": "stdout",
          "text": [
            "não há essa informação no dicionário\n"
          ]
        }
      ]
    },
    {
      "cell_type": "markdown",
      "metadata": {
        "id": "9UZSqPFIcsYm"
      },
      "source": [
        "O método **keys()** retornará uma lista de todas as chaves do dicionário."
      ]
    },
    {
      "cell_type": "code",
      "metadata": {
        "id": "vVlbtdpecnop",
        "colab": {
          "base_uri": "https://localhost:8080/"
        },
        "outputId": "de06331a-766d-4082-cfcf-36b159c34e5c"
      },
      "source": [
        "dict3.keys()"
      ],
      "execution_count": null,
      "outputs": [
        {
          "output_type": "execute_result",
          "data": {
            "text/plain": [
              "dict_keys(['marca', 'modelo', 'eletrico', 'ano', 'cores'])"
            ]
          },
          "metadata": {},
          "execution_count": 251
        }
      ]
    },
    {
      "cell_type": "markdown",
      "metadata": {
        "id": "WJsItDOZc8ci"
      },
      "source": [
        "A lista de chaves é uma visualização do dicionário, o que significa que quaisquer alterações feitas no dicionário serão refletidas na lista de chaves."
      ]
    },
    {
      "cell_type": "code",
      "metadata": {
        "id": "kTn7XRqccvR9"
      },
      "source": [
        "carro = {\n",
        "    'marca':'Ford',\n",
        "    'modelo':'Mustang',\n",
        "    'ano':1964\n",
        "}"
      ],
      "execution_count": null,
      "outputs": []
    },
    {
      "cell_type": "code",
      "metadata": {
        "id": "ZjY8AvMXdJw0",
        "colab": {
          "base_uri": "https://localhost:8080/"
        },
        "outputId": "edc8303d-1537-46cc-ad72-c90b32f2f54d"
      },
      "source": [
        "print(carro)"
      ],
      "execution_count": null,
      "outputs": [
        {
          "output_type": "stream",
          "name": "stdout",
          "text": [
            "{'marca': 'Ford', 'modelo': 'Mustang', 'ano': 1964}\n"
          ]
        }
      ]
    },
    {
      "cell_type": "code",
      "metadata": {
        "id": "xS1Ik2aQdLDM",
        "colab": {
          "base_uri": "https://localhost:8080/"
        },
        "outputId": "46cfbf33-7ec3-4d46-e585-a63cd4d296ef"
      },
      "source": [
        "x = carro.keys()\n",
        "print(x)"
      ],
      "execution_count": null,
      "outputs": [
        {
          "output_type": "stream",
          "name": "stdout",
          "text": [
            "dict_keys(['marca', 'modelo', 'ano'])\n"
          ]
        }
      ]
    },
    {
      "cell_type": "code",
      "metadata": {
        "id": "kZZBSYMRdOqo"
      },
      "source": [
        "carro['cor'] = 'branco'"
      ],
      "execution_count": null,
      "outputs": []
    },
    {
      "cell_type": "code",
      "metadata": {
        "id": "8Uig0g8NdVPy",
        "colab": {
          "base_uri": "https://localhost:8080/"
        },
        "outputId": "81f91d72-3629-45b9-c6d2-2480b8bfb87a"
      },
      "source": [
        "print(carro)"
      ],
      "execution_count": null,
      "outputs": [
        {
          "output_type": "stream",
          "name": "stdout",
          "text": [
            "{'marca': 'Ford', 'modelo': 'Mustang', 'ano': 1964, 'cor': 'branco'}\n"
          ]
        }
      ]
    },
    {
      "cell_type": "code",
      "metadata": {
        "id": "TqBvLQFYdXS1",
        "colab": {
          "base_uri": "https://localhost:8080/"
        },
        "outputId": "7e677881-34a3-4232-86f3-c7dc7cceaab1"
      },
      "source": [
        "x = carro.keys()\n",
        "print(x)"
      ],
      "execution_count": null,
      "outputs": [
        {
          "output_type": "stream",
          "name": "stdout",
          "text": [
            "dict_keys(['marca', 'modelo', 'ano', 'cor'])\n"
          ]
        }
      ]
    },
    {
      "cell_type": "markdown",
      "metadata": {
        "id": "lS9IHNmpddZ2"
      },
      "source": [
        "O método **values()** retornará uma lista de todos os valores no dicionário."
      ]
    },
    {
      "cell_type": "code",
      "metadata": {
        "id": "Pv8jcaZ7dYxl"
      },
      "source": [
        "y = carro.values()"
      ],
      "execution_count": null,
      "outputs": []
    },
    {
      "cell_type": "code",
      "metadata": {
        "id": "0gaDdykKdoNs",
        "colab": {
          "base_uri": "https://localhost:8080/"
        },
        "outputId": "ec406f51-6c36-4b59-e3af-f374c5fe2b0e"
      },
      "source": [
        "print(y)"
      ],
      "execution_count": null,
      "outputs": [
        {
          "output_type": "stream",
          "name": "stdout",
          "text": [
            "dict_values(['Ford', 'Mustang', 1964, 'branco'])\n"
          ]
        }
      ]
    },
    {
      "cell_type": "code",
      "metadata": {
        "id": "BWlz7WfZdpPi"
      },
      "source": [
        "# Alterando um valor no dicionário criado\n",
        "carro['cor'] = 'preto'"
      ],
      "execution_count": null,
      "outputs": []
    },
    {
      "cell_type": "code",
      "metadata": {
        "id": "hTPrP7yhdzWa",
        "colab": {
          "base_uri": "https://localhost:8080/"
        },
        "outputId": "13d5efb7-404b-4ecd-85dd-da225c760ead"
      },
      "source": [
        "y = carro.values()\n",
        "print(y)"
      ],
      "execution_count": null,
      "outputs": [
        {
          "output_type": "stream",
          "name": "stdout",
          "text": [
            "dict_values(['Ford', 'Mustang', 1964, 'preto'])\n"
          ]
        }
      ]
    },
    {
      "cell_type": "code",
      "metadata": {
        "colab": {
          "base_uri": "https://localhost:8080/"
        },
        "id": "W-v57WbFVENP",
        "outputId": "fc707006-081b-4193-d3fc-ac8ee83610fb"
      },
      "source": [
        "carro"
      ],
      "execution_count": null,
      "outputs": [
        {
          "output_type": "execute_result",
          "data": {
            "text/plain": [
              "{'ano': 1964, 'cor': 'preto', 'marca': 'Ford', 'modelo': 'Mustang'}"
            ]
          },
          "metadata": {},
          "execution_count": 262
        }
      ]
    },
    {
      "cell_type": "markdown",
      "metadata": {
        "id": "BQNJF_LReD2M"
      },
      "source": [
        "O método **items()** retornará cada item em um dicionário, como tuplas em uma lista."
      ]
    },
    {
      "cell_type": "code",
      "metadata": {
        "id": "KWVg5Bded2Xu",
        "colab": {
          "base_uri": "https://localhost:8080/"
        },
        "outputId": "d9f40020-34c0-4491-a3f1-9a6519fdcbbc"
      },
      "source": [
        "items = carro.items()\n",
        "\n",
        "print(items)"
      ],
      "execution_count": null,
      "outputs": [
        {
          "output_type": "stream",
          "name": "stdout",
          "text": [
            "dict_items([('marca', 'Ford'), ('modelo', 'Mustang'), ('ano', 1964), ('cor', 'preto')])\n"
          ]
        }
      ]
    },
    {
      "cell_type": "markdown",
      "metadata": {
        "id": "NWTw9oNqfFjv"
      },
      "source": [
        "O método **update()** atualizará o dicionário com os itens do argumento fornecido.\n",
        "\n",
        "Se o item não existir será criado um novo."
      ]
    },
    {
      "cell_type": "code",
      "metadata": {
        "id": "SbGfpI_QeJOJ",
        "colab": {
          "base_uri": "https://localhost:8080/"
        },
        "outputId": "9b5fcda2-98c4-4385-c6e1-934707973869"
      },
      "source": [
        "carro"
      ],
      "execution_count": null,
      "outputs": [
        {
          "output_type": "execute_result",
          "data": {
            "text/plain": [
              "{'ano': 1964, 'cor': 'preto', 'marca': 'Ford', 'modelo': 'Mustang'}"
            ]
          },
          "metadata": {},
          "execution_count": 264
        }
      ]
    },
    {
      "cell_type": "code",
      "metadata": {
        "id": "RgLC4vNZiftS"
      },
      "source": [
        "carro.update({'eletrico':True})"
      ],
      "execution_count": null,
      "outputs": []
    },
    {
      "cell_type": "code",
      "metadata": {
        "id": "9rDHnUEyipQS",
        "colab": {
          "base_uri": "https://localhost:8080/"
        },
        "outputId": "a7bd2078-17e7-4c0c-df37-f650d835aae7"
      },
      "source": [
        "carro"
      ],
      "execution_count": null,
      "outputs": [
        {
          "output_type": "execute_result",
          "data": {
            "text/plain": [
              "{'ano': 1964,\n",
              " 'cor': 'preto',\n",
              " 'eletrico': True,\n",
              " 'marca': 'Ford',\n",
              " 'modelo': 'Mustang'}"
            ]
          },
          "metadata": {},
          "execution_count": 266
        }
      ]
    },
    {
      "cell_type": "code",
      "metadata": {
        "id": "R0toic6KiqAs"
      },
      "source": [
        "carro.update({'eletrico':False})"
      ],
      "execution_count": null,
      "outputs": []
    },
    {
      "cell_type": "code",
      "metadata": {
        "id": "_xQ1EwZXiwEu",
        "colab": {
          "base_uri": "https://localhost:8080/"
        },
        "outputId": "108db772-30cf-4eed-8a86-234a28a96f03"
      },
      "source": [
        "carro"
      ],
      "execution_count": null,
      "outputs": [
        {
          "output_type": "execute_result",
          "data": {
            "text/plain": [
              "{'ano': 1964,\n",
              " 'cor': 'preto',\n",
              " 'eletrico': False,\n",
              " 'marca': 'Ford',\n",
              " 'modelo': 'Mustang'}"
            ]
          },
          "metadata": {},
          "execution_count": 268
        }
      ]
    },
    {
      "cell_type": "code",
      "metadata": {
        "id": "0wSNDu0bVvCd"
      },
      "source": [
        "carro.update({'km_rodado':500})"
      ],
      "execution_count": null,
      "outputs": []
    },
    {
      "cell_type": "code",
      "metadata": {
        "colab": {
          "base_uri": "https://localhost:8080/"
        },
        "id": "1ZKxZYmcVzC9",
        "outputId": "ef114cba-3b99-44f2-f3be-a0a4d0482019"
      },
      "source": [
        "carro"
      ],
      "execution_count": null,
      "outputs": [
        {
          "output_type": "execute_result",
          "data": {
            "text/plain": [
              "{'ano': 1964,\n",
              " 'cor': 'preto',\n",
              " 'eletrico': False,\n",
              " 'km_rodado': 500,\n",
              " 'marca': 'Ford',\n",
              " 'modelo': 'Mustang'}"
            ]
          },
          "metadata": {},
          "execution_count": 270
        }
      ]
    },
    {
      "cell_type": "code",
      "metadata": {
        "id": "1eoNqpsaV3P_"
      },
      "source": [
        "carro.update({'cambio':'manual'})"
      ],
      "execution_count": null,
      "outputs": []
    },
    {
      "cell_type": "code",
      "metadata": {
        "colab": {
          "base_uri": "https://localhost:8080/"
        },
        "id": "8eQwklSWV6v_",
        "outputId": "21204c31-48ce-4be8-f2f8-a51b8ed2e6c8"
      },
      "source": [
        "carro"
      ],
      "execution_count": null,
      "outputs": [
        {
          "output_type": "execute_result",
          "data": {
            "text/plain": [
              "{'ano': 1964,\n",
              " 'cambio': 'manual',\n",
              " 'cor': 'preto',\n",
              " 'eletrico': False,\n",
              " 'km_rodado': 500,\n",
              " 'marca': 'Ford',\n",
              " 'modelo': 'Mustang'}"
            ]
          },
          "metadata": {},
          "execution_count": 272
        }
      ]
    },
    {
      "cell_type": "markdown",
      "metadata": {
        "id": "EPLvFBXKjKTC"
      },
      "source": [
        "O método **pop()** remove o item com o nome de chave especificado."
      ]
    },
    {
      "cell_type": "code",
      "metadata": {
        "id": "P9x9l58ziwgb",
        "colab": {
          "base_uri": "https://localhost:8080/"
        },
        "outputId": "395d651c-10f6-45ec-aa72-dda1da4ffd63"
      },
      "source": [
        "carro.pop('eletrico')"
      ],
      "execution_count": null,
      "outputs": [
        {
          "output_type": "execute_result",
          "data": {
            "text/plain": [
              "False"
            ]
          },
          "metadata": {},
          "execution_count": 273
        }
      ]
    },
    {
      "cell_type": "code",
      "metadata": {
        "id": "z3aEWMxNjO6w",
        "colab": {
          "base_uri": "https://localhost:8080/"
        },
        "outputId": "775c8a4e-ac58-4a45-c064-e6132c77a6dd"
      },
      "source": [
        "carro"
      ],
      "execution_count": null,
      "outputs": [
        {
          "output_type": "execute_result",
          "data": {
            "text/plain": [
              "{'ano': 1964,\n",
              " 'cambio': 'manual',\n",
              " 'cor': 'preto',\n",
              " 'km_rodado': 500,\n",
              " 'marca': 'Ford',\n",
              " 'modelo': 'Mustang'}"
            ]
          },
          "metadata": {},
          "execution_count": 274
        }
      ]
    },
    {
      "cell_type": "markdown",
      "metadata": {
        "id": "BNQtgOUdjXyy"
      },
      "source": [
        "Você pode percorrer um dicionário usando um loop for.\n",
        "\n",
        "Ao percorrer um dicionário, os valores de retorno são as chaves do dicionário, mas também existem métodos para retornar os valores."
      ]
    },
    {
      "cell_type": "code",
      "metadata": {
        "id": "MJxoEL03jPrK",
        "colab": {
          "base_uri": "https://localhost:8080/"
        },
        "outputId": "e099121b-a3e4-4171-cf1e-9800531eacc6"
      },
      "source": [
        "for x in carro:\n",
        "  print(x)"
      ],
      "execution_count": null,
      "outputs": [
        {
          "output_type": "stream",
          "name": "stdout",
          "text": [
            "marca\n",
            "modelo\n",
            "ano\n",
            "cor\n",
            "km_rodado\n",
            "cambio\n"
          ]
        }
      ]
    },
    {
      "cell_type": "code",
      "metadata": {
        "id": "WWrwIFp9jopb",
        "colab": {
          "base_uri": "https://localhost:8080/"
        },
        "outputId": "44c5dd63-1e1a-4a3a-d481-4866fbff5af3"
      },
      "source": [
        "# usando for para mostrar values\n",
        "\n",
        "for x in carro:\n",
        "  print(carro[x])"
      ],
      "execution_count": null,
      "outputs": [
        {
          "output_type": "stream",
          "name": "stdout",
          "text": [
            "Ford\n",
            "Mustang\n",
            "1964\n",
            "preto\n",
            "500\n",
            "manual\n"
          ]
        }
      ]
    },
    {
      "cell_type": "code",
      "metadata": {
        "id": "HVR7Jccaj54W",
        "colab": {
          "base_uri": "https://localhost:8080/"
        },
        "outputId": "aa014648-b22d-4b76-cf72-bd27fc90621e"
      },
      "source": [
        "for x in carro.values():\n",
        "  print(x)"
      ],
      "execution_count": null,
      "outputs": [
        {
          "output_type": "stream",
          "name": "stdout",
          "text": [
            "Ford\n",
            "Mustang\n",
            "1964\n",
            "preto\n",
            "500\n",
            "manual\n"
          ]
        }
      ]
    },
    {
      "cell_type": "code",
      "metadata": {
        "id": "NDSZ9Z9dj_dE",
        "colab": {
          "base_uri": "https://localhost:8080/"
        },
        "outputId": "69d7b5c7-11c1-4ac6-c0f6-79bd77462473"
      },
      "source": [
        "# usando for para mostrar items\n",
        "\n",
        "for x, y in carro.items():\n",
        "  print(x, y)"
      ],
      "execution_count": null,
      "outputs": [
        {
          "output_type": "stream",
          "name": "stdout",
          "text": [
            "marca Ford\n",
            "modelo Mustang\n",
            "ano 1964\n",
            "cor preto\n",
            "km_rodado 500\n",
            "cambio manual\n"
          ]
        }
      ]
    },
    {
      "cell_type": "markdown",
      "metadata": {
        "id": "IJqMwcnxlVrB"
      },
      "source": [
        "Um dicionário pode conter dicionários, isso é chamado de dicionários aninhados."
      ]
    },
    {
      "cell_type": "code",
      "metadata": {
        "id": "MScbV6slkIlq"
      },
      "source": [
        "familia = {\n",
        "    'pai': {\n",
        "        'nome':'Joao',\n",
        "        'idade': 30\n",
        "    },\n",
        "\n",
        "    'mae': {\n",
        "        'nome':'Maria',\n",
        "        'idade': 30\n",
        "    },\n",
        "\n",
        "    'filho': {\n",
        "        'nome':'pedro',\n",
        "        'idade': 5\n",
        "    }\n",
        "}"
      ],
      "execution_count": null,
      "outputs": []
    },
    {
      "cell_type": "code",
      "metadata": {
        "id": "04u0QeOKnnE9",
        "colab": {
          "base_uri": "https://localhost:8080/"
        },
        "outputId": "896284a4-90df-4c3f-b48e-2941088ecf50"
      },
      "source": [
        "familia"
      ],
      "execution_count": null,
      "outputs": [
        {
          "output_type": "execute_result",
          "data": {
            "text/plain": [
              "{'filho': {'idade': 5, 'nome': 'pedro'},\n",
              " 'mae': {'idade': 30, 'nome': 'Maria'},\n",
              " 'pai': {'idade': 30, 'nome': 'Joao'}}"
            ]
          },
          "metadata": {},
          "execution_count": 282
        }
      ]
    },
    {
      "cell_type": "markdown",
      "metadata": {
        "id": "MQPeeE8io7js"
      },
      "source": [
        "**Nota:** Podemos também criar os três dicionários separados (pai, mae, filho) e depois adicioná-los no dicionário família."
      ]
    },
    {
      "cell_type": "code",
      "metadata": {
        "id": "R7JfeKoQp6J5"
      },
      "source": [
        "# E para adicionar um novo dado nesse dicionário???\n",
        "\n",
        "familia['pai'].update({'profissao':'professor'})\n",
        "familia['mae'].update({'profissao':'advogada'})"
      ],
      "execution_count": null,
      "outputs": []
    },
    {
      "cell_type": "code",
      "metadata": {
        "id": "Dz34O3nm0sUK",
        "colab": {
          "base_uri": "https://localhost:8080/"
        },
        "outputId": "fcda28d3-f3e4-4104-dee9-a4c58282f8c8"
      },
      "source": [
        "familia"
      ],
      "execution_count": null,
      "outputs": [
        {
          "output_type": "execute_result",
          "data": {
            "text/plain": [
              "{'filho': {'idade': 5, 'nome': 'pedro'},\n",
              " 'mae': {'idade': 30, 'nome': 'Maria', 'profissao': 'advogada'},\n",
              " 'pai': {'idade': 30, 'nome': 'Joao', 'profissao': 'professor'}}"
            ]
          },
          "metadata": {},
          "execution_count": 284
        }
      ]
    },
    {
      "cell_type": "code",
      "metadata": {
        "id": "2hXuND3Y1X9d",
        "colab": {
          "base_uri": "https://localhost:8080/",
          "height": 35
        },
        "outputId": "19824451-29f1-4805-9fc0-41186cab3e00"
      },
      "source": [
        "# Acessando os dados pelas chaves com []\n",
        "\n",
        "familia['mae']['profissao']"
      ],
      "execution_count": null,
      "outputs": [
        {
          "output_type": "execute_result",
          "data": {
            "application/vnd.google.colaboratory.intrinsic+json": {
              "type": "string"
            },
            "text/plain": [
              "'advogada'"
            ]
          },
          "metadata": {},
          "execution_count": 285
        }
      ]
    },
    {
      "cell_type": "markdown",
      "metadata": {
        "id": "GPEcjc8Ep68v"
      },
      "source": [
        "Compreensões de dicionário: são semelhantes às compreensões de lista, mas permitem que você crie dicionários facilmente. Por exemplo:"
      ]
    },
    {
      "cell_type": "code",
      "metadata": {
        "id": "UArioqOMnn0x",
        "colab": {
          "base_uri": "https://localhost:8080/"
        },
        "outputId": "94a89896-d98b-4218-dc10-2b4275d2aaed"
      },
      "source": [
        "nums = [0, 1, 2, 3, 4, 5, 6]\n",
        "\n",
        "even_num_to_square = {x: x ** 2 for x in nums if x % 2 == 0}\n",
        "print(even_num_to_square)"
      ],
      "execution_count": null,
      "outputs": [
        {
          "output_type": "stream",
          "name": "stdout",
          "text": [
            "{0: 0, 2: 4, 4: 16, 6: 36}\n"
          ]
        }
      ]
    },
    {
      "cell_type": "markdown",
      "metadata": {
        "id": "v8eB_Yn1qSYu"
      },
      "source": [
        "Para mais informações veja a [documentação](https://docs.python.org/3/tutorial/datastructures.html#dictionaries)"
      ]
    },
    {
      "cell_type": "markdown",
      "metadata": {
        "id": "rd4BMmfZqazy"
      },
      "source": [
        "## **Desafio 04:**\n",
        "\n",
        "Crie um programa que leia uma quantidade indeterminada de números do usuário e coloque-os em uma lista. Depois disso mostre:\n",
        "\n",
        "a) Quantos números foram digitados\n",
        "\n",
        "b) A lista de valores ordenada de forma decrescente\n",
        "\n",
        "c) Se o valor 8 foi digitado e está ou não na lista \n",
        "\n",
        "**Dica:** Solicite ao usuário se deseja ou não continuar a inserir números na lista. Esta é sua condição de parada."
      ]
    },
    {
      "cell_type": "code",
      "metadata": {
        "id": "_XFUdMp-ZoPV",
        "colab": {
          "base_uri": "https://localhost:8080/"
        },
        "outputId": "6c3425c3-674e-4f24-d218-fd84286fa7a8"
      },
      "source": [
        "lista = list()\n",
        "\n",
        "while True:\n",
        "  x = int(input('Digite um número inteiro para ser adicionado na lista: '))\n",
        "  lista.append(x)\n",
        "\n",
        "  check = input('Deseja continuar adicionando numeros na lista? s/n: ')\n",
        "\n",
        "  if check == 's':\n",
        "    continue\n",
        "  elif check == 'n':\n",
        "    break\n",
        "\n",
        "print(f'Foram digitados {len(lista)} números na lista')\n",
        "print(f'A lista em ordem decrescente é: {sorted(lista, reverse=True)}')\n",
        "\n",
        "if (8 in lista):\n",
        "  print('O número 8 foi digitado na lista')\n",
        "else:\n",
        "  print('O número 8 não foi digitado na lista')"
      ],
      "execution_count": null,
      "outputs": [
        {
          "output_type": "stream",
          "name": "stdout",
          "text": [
            "Digite um número inteiro para ser adicionado na lista: 4\n",
            "Deseja continuar adicionando numeros na lista? s/n: n\n",
            "Foram digitados 1 números na lista\n",
            "A lista em ordem decrescente é: [4]\n",
            "O número 8 não foi digitado na lista\n"
          ]
        }
      ]
    },
    {
      "cell_type": "markdown",
      "metadata": {
        "id": "T1S-NO4cJ87a"
      },
      "source": [
        "### Agora que você já está familiarizado com Python, vamos conhecer algumas bibliotecas.\n",
        "\n",
        "As bibliotecas e pacotes Python são um conjunto de módulos e funções úteis que minimizam o uso de código em nossa vida cotidiana. Existem mais de 300.000 projetos de bibliotecas para Python, prontos para facilitar a programação dos desenvolvedores. Essas bibliotecas e pacotes destinam-se a uma variedade de soluções modernas.\n",
        "\n",
        "Mais informações sobre as bibliotecas e instalação, você pode encontrar [aqui](https://pypi.org/)"
      ]
    },
    {
      "cell_type": "markdown",
      "metadata": {
        "id": "EIpDuRmOLvKL"
      },
      "source": [
        "Considerando uma biblioteca já instalada (no seu computador ou aqui no colab) basta importá-la no código python para usá-la:\n",
        "\n",
        "import nome_da_biblioteca\n",
        "\n",
        "ou\n",
        "\n",
        "import nome_da_biblioteca as apelido_para_biblioteca"
      ]
    },
    {
      "cell_type": "code",
      "metadata": {
        "id": "XfM3Ve_iKDYV"
      },
      "source": [
        "# importando a biblioteca numpy\n",
        "\n",
        "import numpy"
      ],
      "execution_count": null,
      "outputs": []
    },
    {
      "cell_type": "code",
      "metadata": {
        "id": "6idXAzjeMS0g"
      },
      "source": [
        "# importando a biblioteca numpy e dando um apelido de np\n",
        "\n",
        "import numpy as np"
      ],
      "execution_count": null,
      "outputs": []
    },
    {
      "cell_type": "markdown",
      "metadata": {
        "id": "mmJAe4H_M0iZ"
      },
      "source": [
        "Alguns links com dicas de bibliotecas:\n",
        "\n",
        "[As 30 melhores bibliotecas e pacotes Python para Iniciantes](https://terminalroot.com.br/2019/12/as-30-melhores-bibliotecas-e-pacotes-python-para-iniciantes.html)\n",
        "\n",
        "[5 melhores bibliotecas Python para iniciantes em análise de dados](https://www.bixtecnologia.com.br/5-melhores-bibliotecas-python-para-iniciantes-em-analise-de-dados/)\n",
        "\n",
        "[Melhores Bibliotecas Python para Aprendizagem de Máquinas](https://datascience.eu/pt/programacao/melhores-bibliotecas-python-para-aprendizagem-de-maquinas/)\n",
        "\n"
      ]
    },
    {
      "cell_type": "markdown",
      "metadata": {
        "id": "O6RJTs7Mb846"
      },
      "source": [
        "## **Desafio 05:**\n",
        "\n",
        "Altere o desafio 03 para usar a biblioteca **datetime** e pegar o valor do ano atual pela biblioteca.\n",
        "\n",
        "As informações da biblioteca datetime você encontra [aqui](https://docs.python.org/3/library/datetime.html).\n",
        "\n"
      ]
    },
    {
      "cell_type": "code",
      "metadata": {
        "id": "3tUx8YahddBy",
        "colab": {
          "base_uri": "https://localhost:8080/"
        },
        "outputId": "6a24ea6f-85c3-4adb-efe0-4137d32208fa"
      },
      "source": [
        "import datetime\n",
        "\n",
        "ano = int(input(f'Digite o ano de nascimento do atleta: '))\n",
        "\n",
        "ano_atual = datetime.datetime.now().year\n",
        "\n",
        "idade = ano_atual - ano\n",
        "\n",
        "if idade <= 9:\n",
        "  categoria = 'Mirim'\n",
        "elif idade > 9 and idade <= 14:\n",
        "  categoria = 'Infantil'\n",
        "elif idade > 14 and idade <= 19:\n",
        "  categoria = 'Júnior'\n",
        "elif idade > 19 and idade <= 25:\n",
        "  categoria = 'Sênior'\n",
        "else:\n",
        "  categoria = 'Master'\n",
        "\n",
        "print(f'O atleta tem {idade} anos de idade.')\n",
        "print(f'Classificação: {categoria}')"
      ],
      "execution_count": null,
      "outputs": [
        {
          "output_type": "stream",
          "name": "stdout",
          "text": [
            "Digite o ano de nascimento do atleta: 2011\n",
            "O atleta tem 10 anos de idade.\n",
            "Classificação: Infantil\n"
          ]
        }
      ]
    },
    {
      "cell_type": "code",
      "metadata": {
        "colab": {
          "base_uri": "https://localhost:8080/"
        },
        "id": "6hsXm35K-y58",
        "outputId": "58924375-a93d-4999-9b8a-1e9a4fd025be"
      },
      "source": [
        "ano_atual"
      ],
      "execution_count": null,
      "outputs": [
        {
          "output_type": "execute_result",
          "data": {
            "text/plain": [
              "2021"
            ]
          },
          "metadata": {},
          "execution_count": 7
        }
      ]
    },
    {
      "cell_type": "code",
      "metadata": {
        "colab": {
          "base_uri": "https://localhost:8080/"
        },
        "id": "27EnX3KA-zY3",
        "outputId": "0a6b6c25-f0ba-4ec9-c2b2-4f5ea3db9340"
      },
      "source": [
        "datetime.datetime.now()\n"
      ],
      "execution_count": null,
      "outputs": [
        {
          "output_type": "execute_result",
          "data": {
            "text/plain": [
              "13"
            ]
          },
          "metadata": {},
          "execution_count": 14
        }
      ]
    }
  ]
}